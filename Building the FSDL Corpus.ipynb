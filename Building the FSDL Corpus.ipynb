{
 "cells": [
  {
   "cell_type": "markdown",
   "id": "1de5220b",
   "metadata": {},
   "source": [
    "<img src=\"https://fsdl.me/logo-720-dark-horizontal\">"
   ]
  },
  {
   "cell_type": "markdown",
   "id": "ae580e2f",
   "metadata": {},
   "source": [
    "# Building the FSDL Corpus"
   ]
  },
  {
   "cell_type": "markdown",
   "id": "fd1ee6dd",
   "metadata": {},
   "source": [
    "This notebook constructs a corpus of documents\n",
    "from the\n",
    "[Full Stack Deep Learning](https://fullstackdeeplearning.com)\n",
    "course and website\n",
    "and sends it to a [managed MongoDB database](https://www.mongodb.com/docs/atlas/).\n",
    "\n",
    "These documents are then used to support LLM-powered Q&A."
   ]
  },
  {
   "attachments": {},
   "cell_type": "markdown",
   "id": "8220937f",
   "metadata": {},
   "source": [
    "To achieve higher quality results,\n",
    "we use specialized parsing for the sources.\n",
    "\n",
    "Data preparation is less exciting, but often higher yield, than modeling or engineering!"
   ]
  },
  {
   "cell_type": "markdown",
   "id": "470507c2",
   "metadata": {},
   "source": [
    "## Target Format"
   ]
  },
  {
   "attachments": {},
   "cell_type": "markdown",
   "id": "7a0ef85f",
   "metadata": {},
   "source": [
    "For sourced Q&A, we want to store a collection of documents.\n",
    "\n",
    "In this context, a document is text plus some optional metadata --\n",
    "including, ideally, a URL source and an identifier.\n",
    "\n",
    "A pseudo-schema might look like this:"
   ]
  },
  {
   "attachments": {},
   "cell_type": "markdown",
   "id": "0b69c966",
   "metadata": {},
   "source": [
    "```json\n",
    "Docs = {[Document]}\n",
    "\n",
    "Document = {\n",
    "    text: string,\n",
    "    metadata: Metadata?\n",
    "}\n",
    "    \n",
    "Metadata = {\n",
    "    source: url?\n",
    "    sha256: hash\n",
    "    ...\n",
    "}\n",
    "```"
   ]
  },
  {
   "cell_type": "markdown",
   "id": "9160a07b",
   "metadata": {},
   "source": [
    "To start,\n",
    "we'll just accumulate info in flat `pandas` dataframes."
   ]
  },
  {
   "cell_type": "code",
   "execution_count": 1,
   "id": "0473d438",
   "metadata": {},
   "outputs": [
    {
     "data": {
      "text/html": [
       "<div>\n",
       "<style scoped>\n",
       "    .dataframe tbody tr th:only-of-type {\n",
       "        vertical-align: middle;\n",
       "    }\n",
       "\n",
       "    .dataframe tbody tr th {\n",
       "        vertical-align: top;\n",
       "    }\n",
       "\n",
       "    .dataframe thead th {\n",
       "        text-align: right;\n",
       "    }\n",
       "</style>\n",
       "<table border=\"1\" class=\"dataframe\">\n",
       "  <thead>\n",
       "    <tr style=\"text-align: right;\">\n",
       "      <th></th>\n",
       "      <th>text</th>\n",
       "      <th>source</th>\n",
       "      <th>sha256</th>\n",
       "    </tr>\n",
       "  </thead>\n",
       "  <tbody>\n",
       "  </tbody>\n",
       "</table>\n",
       "</div>"
      ],
      "text/plain": [
       "Empty DataFrame\n",
       "Columns: [text, source, sha256]\n",
       "Index: []"
      ]
     },
     "execution_count": 1,
     "metadata": {},
     "output_type": "execute_result"
    }
   ],
   "source": [
    "import pandas as pd\n",
    "\n",
    "\n",
    "document_df = pd.DataFrame(columns=[\"text\", \"source\", \"sha256\"])\n",
    "\n",
    "document_df"
   ]
  },
  {
   "attachments": {},
   "cell_type": "markdown",
   "id": "c7d1058d",
   "metadata": {},
   "source": [
    "The Q&A will be more useful the more precisely we slice and link the documents,\n",
    "so we want to split a semantic \"document\", like a lecture or a video,\n",
    "up into sub-documents first."
   ]
  },
  {
   "attachments": {},
   "cell_type": "markdown",
   "id": "33186570",
   "metadata": {},
   "source": [
    "**Note**: we leave it up to the `langchain.TextSplitter` to split sub-documents into chunks smaller than a source at time of upsert into the vector database."
   ]
  },
  {
   "cell_type": "markdown",
   "id": "6e512d62",
   "metadata": {},
   "source": [
    "## Markdown Files"
   ]
  },
  {
   "cell_type": "markdown",
   "id": "4aa2f2e7",
   "metadata": {},
   "source": [
    "Most pages on the FSDL website\n",
    "are originally written in Markdown,\n",
    "which makes it easy to pull out relevant sub-documents."
   ]
  },
  {
   "cell_type": "markdown",
   "id": "736793f8",
   "metadata": {},
   "source": [
    "### Lectures"
   ]
  },
  {
   "cell_type": "markdown",
   "id": "1d33fe14",
   "metadata": {},
   "source": [
    "We first define a `DataFrame` with basic metadata about where the lectures can be found -- on the website and as raw Markdown."
   ]
  },
  {
   "cell_type": "code",
   "execution_count": 2,
   "id": "d64cab42",
   "metadata": {},
   "outputs": [],
   "source": [
    "lecture_md_url_base = \"https://raw.githubusercontent.com/full-stack-deep-learning/website/main/docs/course/2022\"\n",
    "website_url_base = \"https://fullstackdeeplearning.com/course/2022\""
   ]
  },
  {
   "cell_type": "code",
   "execution_count": 3,
   "id": "e52a1a3c",
   "metadata": {},
   "outputs": [
    {
     "data": {
      "text/html": [
       "<div>\n",
       "<style scoped>\n",
       "    .dataframe tbody tr th:only-of-type {\n",
       "        vertical-align: middle;\n",
       "    }\n",
       "\n",
       "    .dataframe tbody tr th {\n",
       "        vertical-align: top;\n",
       "    }\n",
       "\n",
       "    .dataframe thead th {\n",
       "        text-align: right;\n",
       "    }\n",
       "</style>\n",
       "<table border=\"1\" class=\"dataframe\">\n",
       "  <thead>\n",
       "    <tr style=\"text-align: right;\">\n",
       "      <th></th>\n",
       "      <th>url-slug</th>\n",
       "    </tr>\n",
       "  </thead>\n",
       "  <tbody>\n",
       "    <tr>\n",
       "      <th>1</th>\n",
       "      <td>lecture-1-course-vision-and-when-to-use-ml</td>\n",
       "    </tr>\n",
       "    <tr>\n",
       "      <th>2</th>\n",
       "      <td>lecture-2-development-infrastructure-and-tooling</td>\n",
       "    </tr>\n",
       "    <tr>\n",
       "      <th>3</th>\n",
       "      <td>lecture-3-troubleshooting-and-testing</td>\n",
       "    </tr>\n",
       "    <tr>\n",
       "      <th>4</th>\n",
       "      <td>lecture-4-data-management</td>\n",
       "    </tr>\n",
       "    <tr>\n",
       "      <th>5</th>\n",
       "      <td>lecture-5-deployment</td>\n",
       "    </tr>\n",
       "    <tr>\n",
       "      <th>6</th>\n",
       "      <td>lecture-6-continual-learning</td>\n",
       "    </tr>\n",
       "    <tr>\n",
       "      <th>7</th>\n",
       "      <td>lecture-7-foundation-models</td>\n",
       "    </tr>\n",
       "    <tr>\n",
       "      <th>8</th>\n",
       "      <td>lecture-8-teams-and-pm</td>\n",
       "    </tr>\n",
       "    <tr>\n",
       "      <th>9</th>\n",
       "      <td>lecture-9-ethics</td>\n",
       "    </tr>\n",
       "  </tbody>\n",
       "</table>\n",
       "</div>"
      ],
      "text/plain": [
       "                                           url-slug\n",
       "1        lecture-1-course-vision-and-when-to-use-ml\n",
       "2  lecture-2-development-infrastructure-and-tooling\n",
       "3             lecture-3-troubleshooting-and-testing\n",
       "4                         lecture-4-data-management\n",
       "5                              lecture-5-deployment\n",
       "6                      lecture-6-continual-learning\n",
       "7                       lecture-7-foundation-models\n",
       "8                            lecture-8-teams-and-pm\n",
       "9                                  lecture-9-ethics"
      ]
     },
     "execution_count": 3,
     "metadata": {},
     "output_type": "execute_result"
    }
   ],
   "source": [
    "lecture_slugs = {\n",
    "    1: \"lecture-1-course-vision-and-when-to-use-ml\",\n",
    "    2: \"lecture-2-development-infrastructure-and-tooling\",\n",
    "    3: \"lecture-3-troubleshooting-and-testing\",\n",
    "    4: \"lecture-4-data-management\",\n",
    "    5: \"lecture-5-deployment\",\n",
    "    6: \"lecture-6-continual-learning\",\n",
    "    7: \"lecture-7-foundation-models\",\n",
    "    8: \"lecture-8-teams-and-pm\",\n",
    "    9: \"lecture-9-ethics\"\n",
    "}\n",
    "\n",
    "lecture_df = pd.DataFrame.from_dict(lecture_slugs, orient=\"index\", columns=[\"url-slug\"])\n",
    "lecture_df"
   ]
  },
  {
   "cell_type": "code",
   "execution_count": 4,
   "id": "4ea0664c",
   "metadata": {},
   "outputs": [],
   "source": [
    "lecture_df[\"raw-md-url\"] = lecture_df[\"url-slug\"].apply(lambda s: f\"{lecture_md_url_base}/{s}/index.md\".format(s))"
   ]
  },
  {
   "cell_type": "markdown",
   "id": "12f981b5",
   "metadata": {},
   "source": [
    "We then bring in the markdown files from GitHub,\n",
    "parse them to split out headings as our \"sources\",\n",
    "and use `slugify` to create URLs for those heading sources."
   ]
  },
  {
   "cell_type": "code",
   "execution_count": 6,
   "id": "19becb14",
   "metadata": {},
   "outputs": [],
   "source": [
    "from smart_open import open\n",
    "\n",
    "\n",
    "def get_text_from(url):\n",
    "    with open(url) as f:\n",
    "        contents = f.read()\n",
    "    return contents\n",
    "\n",
    "lecture_df[\"raw-text\"] = lecture_df[\"raw-md-url\"].apply(lambda url: get_text_from(url))"
   ]
  },
  {
   "cell_type": "code",
   "execution_count": 7,
   "id": "71a2a9ac",
   "metadata": {},
   "outputs": [],
   "source": [
    "import mistune\n",
    "from slugify import slugify\n",
    "\n",
    "\n",
    "def get_target_headings_and_slugs(text):\n",
    "    markdown_parser = mistune.create_markdown(renderer=\"ast\")\n",
    "    parsed_text = markdown_parser(text)\n",
    "    \n",
    "    heading_objects = [obj for obj in parsed_text if obj[\"type\"] == \"heading\"]\n",
    "    h2_objects = [obj for obj in heading_objects if obj[\"level\"] == 2]\n",
    "    \n",
    "    targets = [obj for obj in h2_objects if not(obj[\"children\"][0][\"text\"].startswith(\"description: \"))]\n",
    "    target_headings = [tgt[\"children\"][0][\"text\"] for tgt in targets]\n",
    "    \n",
    "    heading_slugs = [slugify(target_heading) for target_heading in target_headings]\n",
    "    \n",
    "    return target_headings, heading_slugs"
   ]
  },
  {
   "cell_type": "code",
   "execution_count": 8,
   "id": "7987faeb",
   "metadata": {},
   "outputs": [],
   "source": [
    "def split_lecture(row):\n",
    "    text = row[\"raw-text\"]\n",
    "    \n",
    "    headings, slugs = get_target_headings_and_slugs(text)\n",
    "    \n",
    "    texts = split_by_headings(text, headings)\n",
    "    slugs = [\"\"] + slugs\n",
    "    \n",
    "    text_rows = []\n",
    "    for text, slug in zip(texts, slugs):\n",
    "        text_rows.append({\n",
    "            \"url-slug\": row[\"url-slug\"] + \"#\" + slug,\n",
    "            \"raw-md-url\": row[\"raw-md-url\"],\n",
    "            \"text\": text,\n",
    "        })\n",
    "    \n",
    "    return pd.DataFrame.from_records(text_rows)"
   ]
  },
  {
   "cell_type": "code",
   "execution_count": 9,
   "id": "0633af99",
   "metadata": {},
   "outputs": [],
   "source": [
    "def split_by_headings(text, headings):\n",
    "    texts = []\n",
    "    for heading in reversed(headings):\n",
    "        text, section = text.split(\"# \" + heading)\n",
    "        texts.append(f\"## {heading}{section}\")\n",
    "    texts.append(text)\n",
    "    texts = list(reversed(texts))\n",
    "    return texts"
   ]
  },
  {
   "cell_type": "code",
   "execution_count": 10,
   "id": "486b3116",
   "metadata": {},
   "outputs": [],
   "source": [
    "lecture_dfs = []\n",
    "for idx, row in lecture_df.iterrows():\n",
    "    single_lecture_df = split_lecture(row)\n",
    "    single_lecture_df[\"lecture-idx\"] = idx\n",
    "    lecture_dfs.append(single_lecture_df)\n",
    "    \n",
    "split_lecture_df = pd.concat(lecture_dfs, ignore_index=True)"
   ]
  },
  {
   "cell_type": "code",
   "execution_count": 11,
   "id": "3983aebb",
   "metadata": {},
   "outputs": [],
   "source": [
    "split_lecture_df[\"source\"] = split_lecture_df[\"url-slug\"].apply(lambda s: f\"{website_url_base}/{s}\".format(s))"
   ]
  },
  {
   "cell_type": "code",
   "execution_count": 12,
   "id": "447af422",
   "metadata": {},
   "outputs": [
    {
     "data": {
      "text/html": [
       "<div>\n",
       "<style scoped>\n",
       "    .dataframe tbody tr th:only-of-type {\n",
       "        vertical-align: middle;\n",
       "    }\n",
       "\n",
       "    .dataframe tbody tr th {\n",
       "        vertical-align: top;\n",
       "    }\n",
       "\n",
       "    .dataframe thead th {\n",
       "        text-align: right;\n",
       "    }\n",
       "</style>\n",
       "<table border=\"1\" class=\"dataframe\">\n",
       "  <thead>\n",
       "    <tr style=\"text-align: right;\">\n",
       "      <th></th>\n",
       "      <th>url-slug</th>\n",
       "      <th>raw-md-url</th>\n",
       "      <th>text</th>\n",
       "      <th>lecture-idx</th>\n",
       "      <th>source</th>\n",
       "    </tr>\n",
       "  </thead>\n",
       "  <tbody>\n",
       "    <tr>\n",
       "      <th>0</th>\n",
       "      <td>lecture-1-course-vision-and-when-to-use-ml#</td>\n",
       "      <td>https://raw.githubusercontent.com/full-stack-d...</td>\n",
       "      <td>---\\ndescription: Introduction to planning, de...</td>\n",
       "      <td>1</td>\n",
       "      <td>https://fullstackdeeplearning.com/course/2022/...</td>\n",
       "    </tr>\n",
       "    <tr>\n",
       "      <th>1</th>\n",
       "      <td>lecture-1-course-vision-and-when-to-use-ml#1-c...</td>\n",
       "      <td>https://raw.githubusercontent.com/full-stack-d...</td>\n",
       "      <td>## 1 - Course Vision\\n\\n### History of FSDL\\n\\...</td>\n",
       "      <td>1</td>\n",
       "      <td>https://fullstackdeeplearning.com/course/2022/...</td>\n",
       "    </tr>\n",
       "    <tr>\n",
       "      <th>2</th>\n",
       "      <td>lecture-1-course-vision-and-when-to-use-ml#2-w...</td>\n",
       "      <td>https://raw.githubusercontent.com/full-stack-d...</td>\n",
       "      <td>## 2 - When To Use Machine Learning\\n\\n### Whe...</td>\n",
       "      <td>1</td>\n",
       "      <td>https://fullstackdeeplearning.com/course/2022/...</td>\n",
       "    </tr>\n",
       "    <tr>\n",
       "      <th>3</th>\n",
       "      <td>lecture-1-course-vision-and-when-to-use-ml#3-l...</td>\n",
       "      <td>https://raw.githubusercontent.com/full-stack-d...</td>\n",
       "      <td>## 3 - Lifecycle\\n\\nML adds complexity to proj...</td>\n",
       "      <td>1</td>\n",
       "      <td>https://fullstackdeeplearning.com/course/2022/...</td>\n",
       "    </tr>\n",
       "    <tr>\n",
       "      <th>4</th>\n",
       "      <td>lecture-1-course-vision-and-when-to-use-ml#lec...</td>\n",
       "      <td>https://raw.githubusercontent.com/full-stack-d...</td>\n",
       "      <td>## Lecture Summary\\n\\nIn summary, here's what ...</td>\n",
       "      <td>1</td>\n",
       "      <td>https://fullstackdeeplearning.com/course/2022/...</td>\n",
       "    </tr>\n",
       "    <tr>\n",
       "      <th>...</th>\n",
       "      <td>...</td>\n",
       "      <td>...</td>\n",
       "      <td>...</td>\n",
       "      <td>...</td>\n",
       "      <td>...</td>\n",
       "    </tr>\n",
       "    <tr>\n",
       "      <th>57</th>\n",
       "      <td>lecture-9-ethics#2-themes</td>\n",
       "      <td>https://raw.githubusercontent.com/full-stack-d...</td>\n",
       "      <td>## 2 - Themes\\n\\nWe'll see three themes repeat...</td>\n",
       "      <td>9</td>\n",
       "      <td>https://fullstackdeeplearning.com/course/2022/...</td>\n",
       "    </tr>\n",
       "    <tr>\n",
       "      <th>58</th>\n",
       "      <td>lecture-9-ethics#3-tech-ethics</td>\n",
       "      <td>https://raw.githubusercontent.com/full-stack-d...</td>\n",
       "      <td>## 3 - Tech Ethics\\n\\nThe tech industry can't ...</td>\n",
       "      <td>9</td>\n",
       "      <td>https://fullstackdeeplearning.com/course/2022/...</td>\n",
       "    </tr>\n",
       "    <tr>\n",
       "      <th>59</th>\n",
       "      <td>lecture-9-ethics#4-ml-ethics</td>\n",
       "      <td>https://raw.githubusercontent.com/full-stack-d...</td>\n",
       "      <td>## 4 - ML Ethics\\n\\nThe ethical concerns raise...</td>\n",
       "      <td>9</td>\n",
       "      <td>https://fullstackdeeplearning.com/course/2022/...</td>\n",
       "    </tr>\n",
       "    <tr>\n",
       "      <th>60</th>\n",
       "      <td>lecture-9-ethics#5-ai-ethics</td>\n",
       "      <td>https://raw.githubusercontent.com/full-stack-d...</td>\n",
       "      <td>## 5 - AI Ethics\\n\\nAI ethics are a frontier i...</td>\n",
       "      <td>9</td>\n",
       "      <td>https://fullstackdeeplearning.com/course/2022/...</td>\n",
       "    </tr>\n",
       "    <tr>\n",
       "      <th>61</th>\n",
       "      <td>lecture-9-ethics#6-what-is-to-be-done</td>\n",
       "      <td>https://raw.githubusercontent.com/full-stack-d...</td>\n",
       "      <td>## 6 - What Is To Be Done?\\n\\nThis course can'...</td>\n",
       "      <td>9</td>\n",
       "      <td>https://fullstackdeeplearning.com/course/2022/...</td>\n",
       "    </tr>\n",
       "  </tbody>\n",
       "</table>\n",
       "<p>62 rows × 5 columns</p>\n",
       "</div>"
      ],
      "text/plain": [
       "                                             url-slug   \n",
       "0         lecture-1-course-vision-and-when-to-use-ml#  \\\n",
       "1   lecture-1-course-vision-and-when-to-use-ml#1-c...   \n",
       "2   lecture-1-course-vision-and-when-to-use-ml#2-w...   \n",
       "3   lecture-1-course-vision-and-when-to-use-ml#3-l...   \n",
       "4   lecture-1-course-vision-and-when-to-use-ml#lec...   \n",
       "..                                                ...   \n",
       "57                          lecture-9-ethics#2-themes   \n",
       "58                     lecture-9-ethics#3-tech-ethics   \n",
       "59                       lecture-9-ethics#4-ml-ethics   \n",
       "60                       lecture-9-ethics#5-ai-ethics   \n",
       "61              lecture-9-ethics#6-what-is-to-be-done   \n",
       "\n",
       "                                           raw-md-url   \n",
       "0   https://raw.githubusercontent.com/full-stack-d...  \\\n",
       "1   https://raw.githubusercontent.com/full-stack-d...   \n",
       "2   https://raw.githubusercontent.com/full-stack-d...   \n",
       "3   https://raw.githubusercontent.com/full-stack-d...   \n",
       "4   https://raw.githubusercontent.com/full-stack-d...   \n",
       "..                                                ...   \n",
       "57  https://raw.githubusercontent.com/full-stack-d...   \n",
       "58  https://raw.githubusercontent.com/full-stack-d...   \n",
       "59  https://raw.githubusercontent.com/full-stack-d...   \n",
       "60  https://raw.githubusercontent.com/full-stack-d...   \n",
       "61  https://raw.githubusercontent.com/full-stack-d...   \n",
       "\n",
       "                                                 text  lecture-idx   \n",
       "0   ---\\ndescription: Introduction to planning, de...            1  \\\n",
       "1   ## 1 - Course Vision\\n\\n### History of FSDL\\n\\...            1   \n",
       "2   ## 2 - When To Use Machine Learning\\n\\n### Whe...            1   \n",
       "3   ## 3 - Lifecycle\\n\\nML adds complexity to proj...            1   \n",
       "4   ## Lecture Summary\\n\\nIn summary, here's what ...            1   \n",
       "..                                                ...          ...   \n",
       "57  ## 2 - Themes\\n\\nWe'll see three themes repeat...            9   \n",
       "58  ## 3 - Tech Ethics\\n\\nThe tech industry can't ...            9   \n",
       "59  ## 4 - ML Ethics\\n\\nThe ethical concerns raise...            9   \n",
       "60  ## 5 - AI Ethics\\n\\nAI ethics are a frontier i...            9   \n",
       "61  ## 6 - What Is To Be Done?\\n\\nThis course can'...            9   \n",
       "\n",
       "                                               source  \n",
       "0   https://fullstackdeeplearning.com/course/2022/...  \n",
       "1   https://fullstackdeeplearning.com/course/2022/...  \n",
       "2   https://fullstackdeeplearning.com/course/2022/...  \n",
       "3   https://fullstackdeeplearning.com/course/2022/...  \n",
       "4   https://fullstackdeeplearning.com/course/2022/...  \n",
       "..                                                ...  \n",
       "57  https://fullstackdeeplearning.com/course/2022/...  \n",
       "58  https://fullstackdeeplearning.com/course/2022/...  \n",
       "59  https://fullstackdeeplearning.com/course/2022/...  \n",
       "60  https://fullstackdeeplearning.com/course/2022/...  \n",
       "61  https://fullstackdeeplearning.com/course/2022/...  \n",
       "\n",
       "[62 rows x 5 columns]"
      ]
     },
     "execution_count": 12,
     "metadata": {},
     "output_type": "execute_result"
    }
   ],
   "source": [
    "split_lecture_df"
   ]
  },
  {
   "cell_type": "markdown",
   "id": "39955f69",
   "metadata": {},
   "source": [
    "## YouTube Videos"
   ]
  },
  {
   "cell_type": "markdown",
   "id": "f9009409",
   "metadata": {},
   "source": [
    "Videos are not text, but transcripts are --\n",
    "so we can also build a corpus based on videos\n",
    "from the FSDL YouTube channel."
   ]
  },
  {
   "cell_type": "markdown",
   "id": "6bafd220",
   "metadata": {},
   "source": [
    "We first define the video metadata\n",
    "and use it to build a `DataFrame`."
   ]
  },
  {
   "cell_type": "code",
   "execution_count": 13,
   "id": "1b986c37",
   "metadata": {},
   "outputs": [],
   "source": [
    "videos = {\n",
    "    \"id\": [\"-Iob-FW5jVM\",\n",
    "           \"hltjXcaxExY\",\n",
    "           \"9w8CVuHUk8U\",\n",
    "           \"6fSd8RdtDBs\",\n",
    "           \"lsWLgQyaeik\",\n",
    "           \"BPYOsDCZbno\",\n",
    "           \"NEGDJuINE9E\",\n",
    "           \"RLemHNAO5Lw\",\n",
    "           \"D65SlCSoS-0\",\n",
    "           \"Jlm4oqW41vY\",\n",
    "           \"zoS5Fx2Ou1Y\",\n",
    "           \"W3hKjXg7fXM\",\n",
    "           \"2j6rG-4zS6w\",\n",
    "           \"nra0Tt3a-Oc\",\n",
    "           \"-mKzxSC0r7w\",\n",
    "           \"Rm11UeGwGgk\",\n",
    "           \"a54xH6nT4Sw\",\n",
    "           \"7FQpbYTqjAA\",],\n",
    "    \"title\": [\n",
    "        \"Lecture 01: When to Use ML and Course Vision (FSDL 2022)\",\n",
    "        \"Lab Intro and Overview\",\n",
    "        \"Lab 01: Neural networks in PyTorch\",\n",
    "        \"Lab 02: PyTorch Lightning and Convolutional NNs\",\n",
    "        \"Lab 03: Transformers and Paragraphs (FSDL 2022)\",\n",
    "        \"Lecture 02: Development Infrastructure & Tooling (FSDL 2022)\",\n",
    "        \"Lab 04: Experiment Management (FSDL 2022)\",\n",
    "        \"Lecture 03: Troubleshooting & Testing (FSDL 2022)\",\n",
    "        \"Lab 05: Troubleshooting & Testing (FSDL 2022)\",\n",
    "        \"Lecture 04: Data Management (FSDL 2022)\",\n",
    "        \"Lab 06: Data Annotation (FSDL 2022)\",\n",
    "        \"Lecture 05: Deployment (FSDL 2022)\",\n",
    "        \"Lab 07: Web Deployment (FSDL 2022)\",\n",
    "        \"Lecture 06: Continual Learning (FSDL 2022)\",\n",
    "        \"Lab 08: Monitoring (FSDL 2022)\",\n",
    "        \"Lecture 07: Foundation Models (FSDL 2022)\",\n",
    "        \"Lecture 08: ML Teams and Project Management (FSDL 2022)\",\n",
    "        \"Lecture 09: Ethics (FSDL 2022)\",]\n",
    "}"
   ]
  },
  {
   "cell_type": "code",
   "execution_count": 14,
   "id": "07bfe853",
   "metadata": {},
   "outputs": [],
   "source": [
    "# baby's first expectation test\n",
    "assert len(videos[\"title\"]) == len(videos[\"id\"])"
   ]
  },
  {
   "cell_type": "code",
   "execution_count": 15,
   "id": "acd24e08",
   "metadata": {},
   "outputs": [
    {
     "data": {
      "text/html": [
       "<div>\n",
       "<style scoped>\n",
       "    .dataframe tbody tr th:only-of-type {\n",
       "        vertical-align: middle;\n",
       "    }\n",
       "\n",
       "    .dataframe tbody tr th {\n",
       "        vertical-align: top;\n",
       "    }\n",
       "\n",
       "    .dataframe thead th {\n",
       "        text-align: right;\n",
       "    }\n",
       "</style>\n",
       "<table border=\"1\" class=\"dataframe\">\n",
       "  <thead>\n",
       "    <tr style=\"text-align: right;\">\n",
       "      <th></th>\n",
       "      <th>title</th>\n",
       "    </tr>\n",
       "    <tr>\n",
       "      <th>id</th>\n",
       "      <th></th>\n",
       "    </tr>\n",
       "  </thead>\n",
       "  <tbody>\n",
       "    <tr>\n",
       "      <th>-Iob-FW5jVM</th>\n",
       "      <td>Lecture 01: When to Use ML and Course Vision (...</td>\n",
       "    </tr>\n",
       "    <tr>\n",
       "      <th>hltjXcaxExY</th>\n",
       "      <td>Lab Intro and Overview</td>\n",
       "    </tr>\n",
       "    <tr>\n",
       "      <th>9w8CVuHUk8U</th>\n",
       "      <td>Lab 01: Neural networks in PyTorch</td>\n",
       "    </tr>\n",
       "    <tr>\n",
       "      <th>6fSd8RdtDBs</th>\n",
       "      <td>Lab 02: PyTorch Lightning and Convolutional NNs</td>\n",
       "    </tr>\n",
       "    <tr>\n",
       "      <th>lsWLgQyaeik</th>\n",
       "      <td>Lab 03: Transformers and Paragraphs (FSDL 2022)</td>\n",
       "    </tr>\n",
       "    <tr>\n",
       "      <th>BPYOsDCZbno</th>\n",
       "      <td>Lecture 02: Development Infrastructure &amp; Tooli...</td>\n",
       "    </tr>\n",
       "    <tr>\n",
       "      <th>NEGDJuINE9E</th>\n",
       "      <td>Lab 04: Experiment Management (FSDL 2022)</td>\n",
       "    </tr>\n",
       "    <tr>\n",
       "      <th>RLemHNAO5Lw</th>\n",
       "      <td>Lecture 03: Troubleshooting &amp; Testing (FSDL 2022)</td>\n",
       "    </tr>\n",
       "    <tr>\n",
       "      <th>D65SlCSoS-0</th>\n",
       "      <td>Lab 05: Troubleshooting &amp; Testing (FSDL 2022)</td>\n",
       "    </tr>\n",
       "    <tr>\n",
       "      <th>Jlm4oqW41vY</th>\n",
       "      <td>Lecture 04: Data Management (FSDL 2022)</td>\n",
       "    </tr>\n",
       "    <tr>\n",
       "      <th>zoS5Fx2Ou1Y</th>\n",
       "      <td>Lab 06: Data Annotation (FSDL 2022)</td>\n",
       "    </tr>\n",
       "    <tr>\n",
       "      <th>W3hKjXg7fXM</th>\n",
       "      <td>Lecture 05: Deployment (FSDL 2022)</td>\n",
       "    </tr>\n",
       "    <tr>\n",
       "      <th>2j6rG-4zS6w</th>\n",
       "      <td>Lab 07: Web Deployment (FSDL 2022)</td>\n",
       "    </tr>\n",
       "    <tr>\n",
       "      <th>nra0Tt3a-Oc</th>\n",
       "      <td>Lecture 06: Continual Learning (FSDL 2022)</td>\n",
       "    </tr>\n",
       "    <tr>\n",
       "      <th>-mKzxSC0r7w</th>\n",
       "      <td>Lab 08: Monitoring (FSDL 2022)</td>\n",
       "    </tr>\n",
       "    <tr>\n",
       "      <th>Rm11UeGwGgk</th>\n",
       "      <td>Lecture 07: Foundation Models (FSDL 2022)</td>\n",
       "    </tr>\n",
       "    <tr>\n",
       "      <th>a54xH6nT4Sw</th>\n",
       "      <td>Lecture 08: ML Teams and Project Management (F...</td>\n",
       "    </tr>\n",
       "    <tr>\n",
       "      <th>7FQpbYTqjAA</th>\n",
       "      <td>Lecture 09: Ethics (FSDL 2022)</td>\n",
       "    </tr>\n",
       "  </tbody>\n",
       "</table>\n",
       "</div>"
      ],
      "text/plain": [
       "                                                         title\n",
       "id                                                            \n",
       "-Iob-FW5jVM  Lecture 01: When to Use ML and Course Vision (...\n",
       "hltjXcaxExY                             Lab Intro and Overview\n",
       "9w8CVuHUk8U                 Lab 01: Neural networks in PyTorch\n",
       "6fSd8RdtDBs    Lab 02: PyTorch Lightning and Convolutional NNs\n",
       "lsWLgQyaeik    Lab 03: Transformers and Paragraphs (FSDL 2022)\n",
       "BPYOsDCZbno  Lecture 02: Development Infrastructure & Tooli...\n",
       "NEGDJuINE9E          Lab 04: Experiment Management (FSDL 2022)\n",
       "RLemHNAO5Lw  Lecture 03: Troubleshooting & Testing (FSDL 2022)\n",
       "D65SlCSoS-0      Lab 05: Troubleshooting & Testing (FSDL 2022)\n",
       "Jlm4oqW41vY            Lecture 04: Data Management (FSDL 2022)\n",
       "zoS5Fx2Ou1Y                Lab 06: Data Annotation (FSDL 2022)\n",
       "W3hKjXg7fXM                 Lecture 05: Deployment (FSDL 2022)\n",
       "2j6rG-4zS6w                 Lab 07: Web Deployment (FSDL 2022)\n",
       "nra0Tt3a-Oc         Lecture 06: Continual Learning (FSDL 2022)\n",
       "-mKzxSC0r7w                     Lab 08: Monitoring (FSDL 2022)\n",
       "Rm11UeGwGgk          Lecture 07: Foundation Models (FSDL 2022)\n",
       "a54xH6nT4Sw  Lecture 08: ML Teams and Project Management (F...\n",
       "7FQpbYTqjAA                     Lecture 09: Ethics (FSDL 2022)"
      ]
     },
     "execution_count": 15,
     "metadata": {},
     "output_type": "execute_result"
    }
   ],
   "source": [
    "videos_df = pd.DataFrame.from_dict(videos)\n",
    "videos_df.index = videos_df[\"id\"]\n",
    "videos_df = videos_df.drop(\"id\", axis=\"columns\")\n",
    "videos_df"
   ]
  },
  {
   "cell_type": "markdown",
   "id": "74cbf3ac",
   "metadata": {},
   "source": [
    "We use the `youtube_transcript_api` package\n",
    "to pull down the transcripts\n",
    "in a single line of Python."
   ]
  },
  {
   "cell_type": "code",
   "execution_count": 16,
   "id": "1d570fc1",
   "metadata": {},
   "outputs": [],
   "source": [
    "from youtube_transcript_api import YouTubeTranscriptApi\n",
    "\n",
    "\n",
    "transcripts = [YouTubeTranscriptApi.get_transcript(video_id) for video_id in videos_df.index]"
   ]
  },
  {
   "cell_type": "markdown",
   "id": "dc0e1cf8",
   "metadata": {},
   "source": [
    "Conveniently enough, every second of a YouTube video is individually linkable\n",
    "and the transcripts come with timestamps.\n",
    "\n",
    "But a second of speech is not a useful source.\n",
    "\n",
    "And by default, the subtitles come \"chunked\" in time\n",
    "at too fine a grain as well:\n",
    "more like five seconds than the thirty to sixty seconds\n",
    "that it takes to make a reasonable point.\n",
    "\n",
    "So now,\n",
    "we combine the five-second subtitle timestamps\n",
    "into longer chunks based on character count --\n",
    "750 seems to generate nicely sized chunks on our corpus."
   ]
  },
  {
   "cell_type": "code",
   "execution_count": 17,
   "id": "9cf29a05",
   "metadata": {},
   "outputs": [],
   "source": [
    "from datetime import timedelta\n",
    "\n",
    "import srt\n",
    "\n",
    "\n",
    "TRIGGER_LENGTH = 750  # 30-60 seconds\n",
    "\n",
    "def merge(subtitles, idx):\n",
    "    new_content = combine_content(subtitles)\n",
    "\n",
    "    # preserve start as timedelta\n",
    "    new_start = seconds_float_to_timedelta(subtitles[0][\"start\"])\n",
    "    # merge durations as timedelta\n",
    "    new_duration = seconds_float_to_timedelta(sum(sub[\"duration\"] for sub in subtitles))\n",
    "    \n",
    "    # combine\n",
    "    new_end = new_start + new_duration\n",
    "    \n",
    "    return srt.Subtitle(index=idx, start=new_start, end=new_end, content=new_content)\n",
    "\n",
    "\n",
    "def combine_content(subtitles):\n",
    "    contents = [subtitle[\"text\"].strip() for subtitle in subtitles]\n",
    "    return \" \".join(contents) + \"\\n\\n\"\n",
    "\n",
    "\n",
    "def get_charcount(subtitle):\n",
    "    return len(subtitle[\"text\"])\n",
    "\n",
    "\n",
    "def seconds_float_to_timedelta(x_seconds):\n",
    "    return timedelta(seconds=x_seconds)\n",
    "\n",
    "\n",
    "def merge_subtitles(subtitles):\n",
    "    merged_subtitles = []\n",
    "    current_chunk, current_length, chunk_idx = [], 0, 1\n",
    "\n",
    "    for subtitle in subtitles:\n",
    "        current_chunk.append(subtitle)\n",
    "        added_length = get_charcount(subtitle)\n",
    "        new_length = current_length + added_length\n",
    "\n",
    "        if new_length >= TRIGGER_LENGTH:\n",
    "            merged_subtitle = merge(current_chunk, chunk_idx)\n",
    "            merged_subtitles.append(merged_subtitle)\n",
    "            current_chunk, current_length = [], 0\n",
    "            chunk_idx += 1\n",
    "        else:\n",
    "            current_length = new_length\n",
    "\n",
    "    if current_chunk:\n",
    "        merged_subtitle = merge(current_chunk, chunk_idx)\n",
    "        merged_subtitles.append(merged_subtitle)\n",
    "\n",
    "    return merged_subtitles\n",
    "\n",
    "\n",
    "subtitle_collections = [merge_subtitles(transcript) for transcript in transcripts]\n",
    "\n",
    "# get strings as well for quick checks (and easier to write to files)\n",
    "subtitle_strings = [srt.compose(merged_subtitles) for merged_subtitles in subtitle_collections]"
   ]
  },
  {
   "cell_type": "markdown",
   "id": "a837a221",
   "metadata": {},
   "source": [
    "We then add YouTube URLs\n",
    "for those longer subtitles as sources\n",
    "and combine them into a single `DataFrame`."
   ]
  },
  {
   "cell_type": "code",
   "execution_count": 18,
   "id": "7ac34499",
   "metadata": {},
   "outputs": [],
   "source": [
    "base_url_format = \"https://www.youtube.com/watch?v={id}\"\n",
    "query_params_format = \"&t={start}s\"\n",
    "\n",
    "\n",
    "def create_split_video_df(subtitles, base_url):\n",
    "    rows = []\n",
    "    for subtitle in subtitles:\n",
    "        raw_text = subtitle.content\n",
    "        text = raw_text.strip()\n",
    "        start = timestamp_from_timedelta(subtitle.start)\n",
    "        url = base_url + query_params_format.format(start=start)\n",
    "\n",
    "        rows.append({\"text\": text, \"source\": url})\n",
    "\n",
    "    video_df = pd.DataFrame.from_records(rows)\n",
    "    return video_df\n",
    "\n",
    "\n",
    "def timestamp_from_timedelta(td):\n",
    "    return int(td.total_seconds())\n",
    "\n",
    "\n",
    "split_video_dfs = [\n",
    "    create_split_video_df(subtitles, base_url_format.format(id=video_id))\n",
    "    for subtitles, video_id in zip(subtitle_collections, videos_df.index)\n",
    "]\n",
    "\n",
    "split_video_df = pd.concat(split_video_dfs, ignore_index=True)"
   ]
  },
  {
   "cell_type": "code",
   "execution_count": 19,
   "id": "e940f4c8",
   "metadata": {},
   "outputs": [
    {
     "data": {
      "text/html": [
       "<div>\n",
       "<style scoped>\n",
       "    .dataframe tbody tr th:only-of-type {\n",
       "        vertical-align: middle;\n",
       "    }\n",
       "\n",
       "    .dataframe tbody tr th {\n",
       "        vertical-align: top;\n",
       "    }\n",
       "\n",
       "    .dataframe thead th {\n",
       "        text-align: right;\n",
       "    }\n",
       "</style>\n",
       "<table border=\"1\" class=\"dataframe\">\n",
       "  <thead>\n",
       "    <tr style=\"text-align: right;\">\n",
       "      <th></th>\n",
       "      <th>text</th>\n",
       "      <th>source</th>\n",
       "    </tr>\n",
       "  </thead>\n",
       "  <tbody>\n",
       "    <tr>\n",
       "      <th>0</th>\n",
       "      <td>hey everyone welcome to the 2022 edition of fu...</td>\n",
       "      <td>https://www.youtube.com/watch?v=-Iob-FW5jVM&amp;t=0s</td>\n",
       "    </tr>\n",
       "    <tr>\n",
       "      <th>1</th>\n",
       "      <td>talk about in this class really what is full s...</td>\n",
       "      <td>https://www.youtube.com/watch?v=-Iob-FW5jVM&amp;t=33s</td>\n",
       "    </tr>\n",
       "    <tr>\n",
       "      <th>2</th>\n",
       "      <td>big companies like google that were really sta...</td>\n",
       "      <td>https://www.youtube.com/watch?v=-Iob-FW5jVM&amp;t=70s</td>\n",
       "    </tr>\n",
       "    <tr>\n",
       "      <th>3</th>\n",
       "      <td>tick tock is a really powerful example but it'...</td>\n",
       "      <td>https://www.youtube.com/watch?v=-Iob-FW5jVM&amp;t=...</td>\n",
       "    </tr>\n",
       "    <tr>\n",
       "      <th>4</th>\n",
       "      <td>biggest changes in the field in the past four ...</td>\n",
       "      <td>https://www.youtube.com/watch?v=-Iob-FW5jVM&amp;t=...</td>\n",
       "    </tr>\n",
       "    <tr>\n",
       "      <th>...</th>\n",
       "      <td>...</td>\n",
       "      <td>...</td>\n",
       "    </tr>\n",
       "    <tr>\n",
       "      <th>924</th>\n",
       "      <td>for me I think that's things around deceptive ...</td>\n",
       "      <td>https://www.youtube.com/watch?v=7FQpbYTqjAA&amp;t=...</td>\n",
       "    </tr>\n",
       "    <tr>\n",
       "      <th>925</th>\n",
       "      <td>purely negative about avoiding doing bad thing...</td>\n",
       "      <td>https://www.youtube.com/watch?v=7FQpbYTqjAA&amp;t=...</td>\n",
       "    </tr>\n",
       "    <tr>\n",
       "      <th>926</th>\n",
       "      <td>someone close to you then you know that the jo...</td>\n",
       "      <td>https://www.youtube.com/watch?v=7FQpbYTqjAA&amp;t=...</td>\n",
       "    </tr>\n",
       "    <tr>\n",
       "      <th>927</th>\n",
       "      <td>long-term safety and Broad distribution of the...</td>\n",
       "      <td>https://www.youtube.com/watch?v=7FQpbYTqjAA&amp;t=...</td>\n",
       "    </tr>\n",
       "    <tr>\n",
       "      <th>928</th>\n",
       "      <td>assess training and monitoring understand limi...</td>\n",
       "      <td>https://www.youtube.com/watch?v=7FQpbYTqjAA&amp;t=...</td>\n",
       "    </tr>\n",
       "  </tbody>\n",
       "</table>\n",
       "<p>929 rows × 2 columns</p>\n",
       "</div>"
      ],
      "text/plain": [
       "                                                  text   \n",
       "0    hey everyone welcome to the 2022 edition of fu...  \\\n",
       "1    talk about in this class really what is full s...   \n",
       "2    big companies like google that were really sta...   \n",
       "3    tick tock is a really powerful example but it'...   \n",
       "4    biggest changes in the field in the past four ...   \n",
       "..                                                 ...   \n",
       "924  for me I think that's things around deceptive ...   \n",
       "925  purely negative about avoiding doing bad thing...   \n",
       "926  someone close to you then you know that the jo...   \n",
       "927  long-term safety and Broad distribution of the...   \n",
       "928  assess training and monitoring understand limi...   \n",
       "\n",
       "                                                source  \n",
       "0     https://www.youtube.com/watch?v=-Iob-FW5jVM&t=0s  \n",
       "1    https://www.youtube.com/watch?v=-Iob-FW5jVM&t=33s  \n",
       "2    https://www.youtube.com/watch?v=-Iob-FW5jVM&t=70s  \n",
       "3    https://www.youtube.com/watch?v=-Iob-FW5jVM&t=...  \n",
       "4    https://www.youtube.com/watch?v=-Iob-FW5jVM&t=...  \n",
       "..                                                 ...  \n",
       "924  https://www.youtube.com/watch?v=7FQpbYTqjAA&t=...  \n",
       "925  https://www.youtube.com/watch?v=7FQpbYTqjAA&t=...  \n",
       "926  https://www.youtube.com/watch?v=7FQpbYTqjAA&t=...  \n",
       "927  https://www.youtube.com/watch?v=7FQpbYTqjAA&t=...  \n",
       "928  https://www.youtube.com/watch?v=7FQpbYTqjAA&t=...  \n",
       "\n",
       "[929 rows x 2 columns]"
      ]
     },
     "execution_count": 19,
     "metadata": {},
     "output_type": "execute_result"
    }
   ],
   "source": [
    "split_video_df"
   ]
  },
  {
   "cell_type": "markdown",
   "id": "efb5307c",
   "metadata": {},
   "source": [
    "# Combine"
   ]
  },
  {
   "cell_type": "markdown",
   "id": "c0dc7025",
   "metadata": {},
   "source": [
    "Now that we've got all of our texts and sources collated\n",
    "in separate `DataFrame`s,\n",
    "let's combine them together."
   ]
  },
  {
   "cell_type": "code",
   "execution_count": 20,
   "id": "cd0c333d",
   "metadata": {},
   "outputs": [],
   "source": [
    "dfs = [split_lecture_df, split_video_df]\n",
    "document_formatted_dfs = [df[[\"text\", \"source\"]] for df in dfs]\n",
    "document_df = pd.concat(document_formatted_dfs)"
   ]
  },
  {
   "cell_type": "markdown",
   "id": "3de0f43c",
   "metadata": {},
   "source": [
    "Now's a convenient time to add those `sha256` hashes for identification."
   ]
  },
  {
   "cell_type": "code",
   "execution_count": 21,
   "id": "ec09e648",
   "metadata": {},
   "outputs": [],
   "source": [
    "import hashlib\n",
    "\n",
    "doc_ids = []\n",
    "for _, row in document_df.iterrows():\n",
    "    m = hashlib.sha256()\n",
    "    m.update(row[\"text\"].encode(\"utf-8\"))\n",
    "    doc_ids.append(m.hexdigest())\n",
    "    \n",
    "document_df.index = doc_ids"
   ]
  },
  {
   "cell_type": "markdown",
   "id": "54b62e39",
   "metadata": {},
   "source": [
    "Let's look and see how many \"documents\" we ended up with,\n",
    "before we move on:"
   ]
  },
  {
   "cell_type": "code",
   "execution_count": 22,
   "id": "e85cc06e",
   "metadata": {},
   "outputs": [
    {
     "data": {
      "text/plain": [
       "991"
      ]
     },
     "execution_count": 22,
     "metadata": {},
     "output_type": "execute_result"
    }
   ],
   "source": [
    "len(document_df)"
   ]
  },
  {
   "cell_type": "markdown",
   "id": "788ee99e",
   "metadata": {},
   "source": [
    "## Persist to Disk"
   ]
  },
  {
   "cell_type": "markdown",
   "id": "4efc2f61",
   "metadata": {},
   "source": [
    "As a first step to persisting our corpus,\n",
    "let's save it to disk and reload it.\n",
    "\n",
    "The data involved is relatively simple --\n",
    "basically all strings --\n",
    "so we don't need to `pickle` the `DataFrame`,\n",
    "which comes with its own woes.\n",
    "\n",
    "Instead, we just format it as `JSON` --\n",
    "the web's favorite serialization format."
   ]
  },
  {
   "cell_type": "code",
   "execution_count": 23,
   "id": "f5513f7f",
   "metadata": {},
   "outputs": [],
   "source": [
    "documents_json = document_df.to_json(orient=\"index\", index=True)"
   ]
  },
  {
   "cell_type": "code",
   "execution_count": 24,
   "id": "ed747fd9",
   "metadata": {},
   "outputs": [],
   "source": [
    "with open(\"documents.json\", \"w\") as f:\n",
    "    f.write(documents_json)"
   ]
  },
  {
   "cell_type": "markdown",
   "id": "38a2eb6a",
   "metadata": {},
   "source": [
    "Before moving on,\n",
    "let's check that we can in fact reload the data."
   ]
  },
  {
   "cell_type": "code",
   "execution_count": 25,
   "id": "66e8bf50",
   "metadata": {},
   "outputs": [],
   "source": [
    "import json\n",
    "\n",
    "with open(\"documents.json\") as f:\n",
    "    s = f.read()\n",
    "    \n",
    "key, document = list(json.loads(s).items())[0]"
   ]
  },
  {
   "cell_type": "code",
   "execution_count": 26,
   "id": "2998b5c0",
   "metadata": {},
   "outputs": [
    {
     "name": "stdout",
     "output_type": "stream",
     "text": [
      "---\n",
      "description: Introduction to planning, developing, and shipping ML-powered products.\n",
      "---\n",
      "\n",
      "# Lecture 1: Course Vision and When to Use ML\n",
      "\n",
      "<div align=\"center\">\n",
      "<iframe width=\"720\" height=\"405\" src=\"https://www.youtube-nocookie.com/embed/-Iob-FW5jVM?list=PL1T8fO7ArWleMMI8KPJ_5D5XSlovTW_Ur\" title=\"YouTube video player\" frameborder=\"0\" allow=\"accelerometer; autoplay; clipboard-write; encrypted-media; gyroscope; picture-in-picture\" allowfullscreen></iframe>\n",
      "</div>\n",
      "\n",
      "Lecture by [Josh Tobin](https://twitter.com/josh_tobin_).\n",
      "Notes by [James Le](https://twitter.com/le_james94) and [Vishnu Rachakonda](https://www.linkedin.com/in/vrachakonda/).<br />\n",
      "Published August 8, 2022.\n",
      "[Download slides](https://drive.google.com/file/d/18EVuJpnJ9z5Pz7oRYcgax_IzRVhbuAMC/view?usp=sharing).\n",
      "\n",
      "# https://fullstackdeeplearning.com/course/2022/lecture-1-course-vision-and-when-to-use-ml#\n"
     ]
    }
   ],
   "source": [
    "print(document[\"text\"], document[\"source\"])"
   ]
  },
  {
   "cell_type": "markdown",
   "id": "760de973",
   "metadata": {},
   "source": [
    "## Put into MongoDB"
   ]
  },
  {
   "cell_type": "markdown",
   "id": "ac4939c2",
   "metadata": {},
   "source": [
    "But a local filesystem isn't a good method for persistence.\n",
    "\n",
    "We want these documents to be available via an API,\n",
    "with the ability to scale reads and writes if needed.\n",
    "\n",
    "So let's put them in a database.\n",
    "\n",
    "We choose MongoDB simply for convenience --\n",
    "we don't want to define a schema just yet,\n",
    "since these tools are evolving rapidly,\n",
    "and there are nice free hosting options.\n",
    "\n",
    "> MongoDB is, in NoSQL terms, a \"document database\",\n",
    "but the term document means something different\n",
    "than it does in \"Document Q&A\".\n",
    "In Mongoland, a \"document\" is just a blob of JSON.\n",
    "We format our Q&A documents as JSON\n",
    "and store them in Mongo,\n",
    "so the distinction is not obvious here."
   ]
  },
  {
   "cell_type": "markdown",
   "id": "20e6dd65",
   "metadata": {},
   "source": [
    "If you're running this yourself,\n",
    "you'll need to create a hosted MongoDB instance\n",
    "and add a database called `fsdl`\n",
    "with a collection called `ask-fsdl`.\n",
    "\n",
    "You can find instructions\n",
    "[here](https://www.mongodb.com/basics/mongodb-atlas-tutorial).\n",
    "\n",
    "You'll need the URL and password info\n",
    "from that setup process to connect.\n",
    "\n",
    "Add them to the `.env` file."
   ]
  },
  {
   "cell_type": "code",
   "execution_count": null,
   "id": "9b989c7a",
   "metadata": {},
   "outputs": [],
   "source": [
    "import json\n",
    "import os\n",
    "\n",
    "from dotenv import load_dotenv\n",
    "import pymongo\n",
    "from pymongo import InsertOne\n",
    "\n",
    "load_dotenv()\n",
    "\n",
    "mongodb_url = os.environ[\"MONGODB_URI\"]\n",
    "mongodb_password = os.environ[\"MONGODB_PASSWORD\"]\n",
    "\n",
    "CONNECTION_STRING = f\"mongodb+srv://fsdl:{mongodb_password}@{mongodb_url}/?retryWrites=true&w=majority\"\n",
    "\n",
    "# connect to the database server\n",
    "client = pymongo.MongoClient(CONNECTION_STRING)\n",
    "# connect to the database\n",
    "db = client.get_database(\"fsdl\")\n",
    "# get a representation of the collection\n",
    "collection = db.get_collection(\"ask-fsdl\")\n",
    "\n",
    "collection"
   ]
  },
  {
   "cell_type": "markdown",
   "id": "a91e779e",
   "metadata": {},
   "source": [
    "Now that we're connected,\n",
    "we're ready to upsert.\n",
    "\n",
    "We loop over the documents -- loaded from disk --\n",
    "and format them into a Python dictionary\n",
    "that fits our `Document` pseudoschema.\n",
    "\n",
    "With `pymongo`,\n",
    "we can just insert that dictionary directly,\n",
    "using `InsertOne`,\n",
    "and use `bulk_write` to get batching."
   ]
  },
  {
   "cell_type": "code",
   "execution_count": null,
   "id": "4866dab8",
   "metadata": {},
   "outputs": [],
   "source": [
    "CHUNK_SIZE = 250\n",
    "requesting = []\n",
    "\n",
    "with open(\"documents.json\") as f:\n",
    "    documents = json.load(f)\n",
    "\n",
    "\n",
    "for (sha_hash, content) in documents.items():\n",
    "    metadata = {key: value for key, value in content.items() if key != \"text\"}\n",
    "    metadata[\"sha256\"] = sha_hash\n",
    "    document = {\"text\": content[\"text\"], \"metadata\": metadata}\n",
    "    requesting.append(InsertOne(document))\n",
    "    \n",
    "    if len(requesting) >= CHUNK_SIZE:\n",
    "        collection.bulk_write(requesting)\n",
    "        requesting = []\n",
    "        \n",
    "if requesting:\n",
    "    collection.bulk_write(requesting)\n",
    "    requesting = []"
   ]
  }
 ],
 "metadata": {
  "kernelspec": {
   "display_name": "Python 3 (ipykernel)",
   "language": "python",
   "name": "python3"
  },
  "language_info": {
   "codemirror_mode": {
    "name": "ipython",
    "version": 3
   },
   "file_extension": ".py",
   "mimetype": "text/x-python",
   "name": "python",
   "nbconvert_exporter": "python",
   "pygments_lexer": "ipython3",
   "version": "3.10.4"
  }
 },
 "nbformat": 4,
 "nbformat_minor": 5
}
