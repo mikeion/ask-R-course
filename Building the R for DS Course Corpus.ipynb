{
 "cells": [
  {
   "cell_type": "markdown",
   "id": "9160a07b",
   "metadata": {},
   "source": [
    "To start,\n",
    "we'll just accumulate info in flat `pandas` dataframes."
   ]
  },
  {
   "cell_type": "code",
   "execution_count": 14,
   "id": "0473d438",
   "metadata": {},
   "outputs": [
    {
     "data": {
      "text/html": [
       "<div>\n",
       "<style scoped>\n",
       "    .dataframe tbody tr th:only-of-type {\n",
       "        vertical-align: middle;\n",
       "    }\n",
       "\n",
       "    .dataframe tbody tr th {\n",
       "        vertical-align: top;\n",
       "    }\n",
       "\n",
       "    .dataframe thead th {\n",
       "        text-align: right;\n",
       "    }\n",
       "</style>\n",
       "<table border=\"1\" class=\"dataframe\">\n",
       "  <thead>\n",
       "    <tr style=\"text-align: right;\">\n",
       "      <th></th>\n",
       "      <th>text</th>\n",
       "      <th>source</th>\n",
       "      <th>sha256</th>\n",
       "    </tr>\n",
       "  </thead>\n",
       "  <tbody>\n",
       "  </tbody>\n",
       "</table>\n",
       "</div>"
      ],
      "text/plain": [
       "Empty DataFrame\n",
       "Columns: [text, source, sha256]\n",
       "Index: []"
      ]
     },
     "execution_count": 14,
     "metadata": {},
     "output_type": "execute_result"
    }
   ],
   "source": [
    "import pandas as pd\n",
    "\n",
    "\n",
    "document_df = pd.DataFrame(columns=[\"text\", \"source\", \"sha256\"])\n",
    "\n",
    "document_df"
   ]
  },
  {
   "attachments": {},
   "cell_type": "markdown",
   "id": "c7d1058d",
   "metadata": {},
   "source": [
    "The Q&A will be more useful the more precisely we slice and link the documents,\n",
    "so we want to split a semantic \"document\", like a lecture or a video,\n",
    "up into sub-documents first."
   ]
  },
  {
   "attachments": {},
   "cell_type": "markdown",
   "id": "33186570",
   "metadata": {},
   "source": [
    "**Note**: we leave it up to the `langchain.TextSplitter` to split sub-documents into chunks smaller than a source at time of upsert into the vector database."
   ]
  },
  {
   "cell_type": "markdown",
   "id": "6e512d62",
   "metadata": {},
   "source": [
    "## Markdown Files"
   ]
  },
  {
   "cell_type": "markdown",
   "id": "4aa2f2e7",
   "metadata": {},
   "source": [
    "Most pages on the FSDL website\n",
    "are originally written in Markdown,\n",
    "which makes it easy to pull out relevant sub-documents."
   ]
  },
  {
   "cell_type": "markdown",
   "id": "736793f8",
   "metadata": {},
   "source": [
    "### Lectures"
   ]
  },
  {
   "cell_type": "markdown",
   "id": "1d33fe14",
   "metadata": {},
   "source": [
    "We first define a `DataFrame` with basic metadata about where the lectures can be found -- on the website and as raw Markdown."
   ]
  },
  {
   "cell_type": "code",
   "execution_count": 15,
   "id": "d64cab42",
   "metadata": {},
   "outputs": [],
   "source": [
    "notes_md_url_base = \"https://raw.githubusercontent.com/ramnathv/corise-r-for-ds/main/notes/\""
   ]
  },
  {
   "cell_type": "code",
   "execution_count": 16,
   "id": "e52a1a3c",
   "metadata": {},
   "outputs": [
    {
     "data": {
      "text/html": [
       "<div>\n",
       "<style scoped>\n",
       "    .dataframe tbody tr th:only-of-type {\n",
       "        vertical-align: middle;\n",
       "    }\n",
       "\n",
       "    .dataframe tbody tr th {\n",
       "        vertical-align: top;\n",
       "    }\n",
       "\n",
       "    .dataframe thead th {\n",
       "        text-align: right;\n",
       "    }\n",
       "</style>\n",
       "<table border=\"1\" class=\"dataframe\">\n",
       "  <thead>\n",
       "    <tr style=\"text-align: right;\">\n",
       "      <th></th>\n",
       "      <th>url-slug</th>\n",
       "    </tr>\n",
       "  </thead>\n",
       "  <tbody>\n",
       "    <tr>\n",
       "      <th>1</th>\n",
       "      <td>week-00/01-welcome-to-r-for-ds/01-welcome-to-r...</td>\n",
       "    </tr>\n",
       "    <tr>\n",
       "      <th>2</th>\n",
       "      <td>week-00/02-how-to-prepare-for-this-course/02-h...</td>\n",
       "    </tr>\n",
       "    <tr>\n",
       "      <th>3</th>\n",
       "      <td>week-00/03-logistic-faqs/03-logistic-faqs.md</td>\n",
       "    </tr>\n",
       "    <tr>\n",
       "      <th>4</th>\n",
       "      <td>week-01/01-doing-data-science/01-doing-data-sc...</td>\n",
       "    </tr>\n",
       "    <tr>\n",
       "      <th>5</th>\n",
       "      <td>week-01/02-data-science-in-action/02-data-scie...</td>\n",
       "    </tr>\n",
       "    <tr>\n",
       "      <th>6</th>\n",
       "      <td>week-01/03-importing-data/03-importing-data.md</td>\n",
       "    </tr>\n",
       "    <tr>\n",
       "      <th>7</th>\n",
       "      <td>week-01/04-visualizing-data/04-visualizing-dat...</td>\n",
       "    </tr>\n",
       "    <tr>\n",
       "      <th>8</th>\n",
       "      <td>week-01/05-transforming-data/05-transforming-d...</td>\n",
       "    </tr>\n",
       "    <tr>\n",
       "      <th>9</th>\n",
       "      <td>week-01/06-manipulating-data/06-manipulating-d...</td>\n",
       "    </tr>\n",
       "    <tr>\n",
       "      <th>10</th>\n",
       "      <td>week-02/01-aggregating-data/01-aggregating-dat...</td>\n",
       "    </tr>\n",
       "    <tr>\n",
       "      <th>11</th>\n",
       "      <td>week-02/02-reshaping-data/02-reshaping-data.md</td>\n",
       "    </tr>\n",
       "    <tr>\n",
       "      <th>12</th>\n",
       "      <td>week-02/03-combining-data/03-combining-data.md</td>\n",
       "    </tr>\n",
       "    <tr>\n",
       "      <th>13</th>\n",
       "      <td>week-02/04-grammar-of-graphics/04-grammar-of-g...</td>\n",
       "    </tr>\n",
       "    <tr>\n",
       "      <th>14</th>\n",
       "      <td>week-02/05-data-science-in-action-again/05-dat...</td>\n",
       "    </tr>\n",
       "  </tbody>\n",
       "</table>\n",
       "</div>"
      ],
      "text/plain": [
       "                                             url-slug\n",
       "1   week-00/01-welcome-to-r-for-ds/01-welcome-to-r...\n",
       "2   week-00/02-how-to-prepare-for-this-course/02-h...\n",
       "3        week-00/03-logistic-faqs/03-logistic-faqs.md\n",
       "4   week-01/01-doing-data-science/01-doing-data-sc...\n",
       "5   week-01/02-data-science-in-action/02-data-scie...\n",
       "6      week-01/03-importing-data/03-importing-data.md\n",
       "7   week-01/04-visualizing-data/04-visualizing-dat...\n",
       "8   week-01/05-transforming-data/05-transforming-d...\n",
       "9   week-01/06-manipulating-data/06-manipulating-d...\n",
       "10  week-02/01-aggregating-data/01-aggregating-dat...\n",
       "11     week-02/02-reshaping-data/02-reshaping-data.md\n",
       "12     week-02/03-combining-data/03-combining-data.md\n",
       "13  week-02/04-grammar-of-graphics/04-grammar-of-g...\n",
       "14  week-02/05-data-science-in-action-again/05-dat..."
      ]
     },
     "execution_count": 16,
     "metadata": {},
     "output_type": "execute_result"
    }
   ],
   "source": [
    "notes_slugs = {\n",
    "    1: \"week-00/01-welcome-to-r-for-ds/01-welcome-to-r-for-ds.md\",\n",
    "    2: \"week-00/02-how-to-prepare-for-this-course/02-how-to-prepare-for-this-course.md\",\n",
    "    3: \"week-00/03-logistic-faqs/03-logistic-faqs.md\",\n",
    "    4: \"week-01/01-doing-data-science/01-doing-data-science.md\",\n",
    "    5: \"week-01/02-data-science-in-action/02-data-science-in-action.md\",\n",
    "    6: \"week-01/03-importing-data/03-importing-data.md\",\n",
    "    7: \"week-01/04-visualizing-data/04-visualizing-data.md\",\n",
    "    8: \"week-01/05-transforming-data/05-transforming-data.md\",\n",
    "    9: \"week-01/06-manipulating-data/06-manipulating-data.md\",\n",
    "    10: \"week-02/01-aggregating-data/01-aggregating-data.md\",\n",
    "    11: \"week-02/02-reshaping-data/02-reshaping-data.md\",\n",
    "    12: \"week-02/03-combining-data/03-combining-data.md\",\n",
    "    13: \"week-02/04-grammar-of-graphics/04-grammar-of-graphics.md\",\n",
    "    14: \"week-02/05-data-science-in-action-again/05-data-science-in-action-again.md\"\n",
    "}\n",
    "\n",
    "notes_df = pd.DataFrame.from_dict(notes_slugs, orient=\"index\", columns=[\"url-slug\"])\n",
    "notes_df"
   ]
  },
  {
   "cell_type": "code",
   "execution_count": 17,
   "id": "9ada092f",
   "metadata": {},
   "outputs": [],
   "source": [
    "notes_df[\"raw-md-url\"] = notes_df[\"url-slug\"].apply(lambda s: f\"{notes_md_url_base}/{s}\".format(s))"
   ]
  },
  {
   "cell_type": "markdown",
   "id": "12f981b5",
   "metadata": {},
   "source": [
    "We then bring in the markdown files from GitHub,\n",
    "parse them to split out headings as our \"sources\",\n",
    "and use `slugify` to create URLs for those heading sources."
   ]
  },
  {
   "cell_type": "code",
   "execution_count": 26,
   "id": "19becb14",
   "metadata": {},
   "outputs": [],
   "source": [
    "from smart_open import open\n",
    "\n",
    "\n",
    "def get_text_from(url):\n",
    "    with open(url) as f:\n",
    "        contents = f.read()\n",
    "    return contents\n",
    "\n",
    "notes_df[\"raw-text\"] = notes_df[\"raw-md-url\"].apply(lambda url: get_text_from(url))"
   ]
  },
  {
   "cell_type": "code",
   "execution_count": 27,
   "id": "b614b3a1",
   "metadata": {},
   "outputs": [
    {
     "data": {
      "text/plain": [
       "1     \\n### 👋 Hi!!\\n\\nHello, I’m Ramnath, and I’m ex...\n",
       "2     \\n### How to Prepare for This Course?\\n\\nWe cr...\n",
       "3     \\n### Are sessions recorded?\\n\\nWe encourage y...\n",
       "4     \\n## Doing Data Science\\n\\n### What is Data Sc...\n",
       "5     \\n## Data Science in Action\\n\\nThe best way to...\n",
       "6     \\n## Importing Data\\n\\nImporting data refers t...\n",
       "7     \\n## Visualizing Data\\n\\nData visualization is...\n",
       "8     \\n## Transforming Data\\n\\nVisualizing data is ...\n",
       "9     \\n## Manipulating Data\\n\\nRecall how data mani...\n",
       "10    \\n## Aggregating Data\\n\\n**Aggregating** data ...\n",
       "11    \\n## Reshaping Data\\n\\n**Reshaping** data is a...\n",
       "12    \\n## Combining Data\\n\\n**Combining** data spre...\n",
       "13    \\n## Grammar of Graphics\\n\\nThe **Grammar of G...\n",
       "14    \\n## Unisex Names\\n\\n<img src=\"https://fivethi...\n",
       "Name: raw-text, dtype: object"
      ]
     },
     "execution_count": 27,
     "metadata": {},
     "output_type": "execute_result"
    }
   ],
   "source": [
    "notes_df[\"raw-text\"]"
   ]
  },
  {
   "cell_type": "code",
   "execution_count": 30,
   "id": "9b6a4f18",
   "metadata": {},
   "outputs": [],
   "source": [
    "notes_df[\"raw-text\"] = notes_df[\"raw-text\"].apply(lambda x: ' '.join(word for word in str(x).split() if not word.startswith('\\n')))"
   ]
  },
  {
   "cell_type": "code",
   "execution_count": 31,
   "id": "1769807d",
   "metadata": {},
   "outputs": [
    {
     "data": {
      "text/plain": [
       "1     ### 👋 Hi!! Hello, I’m Ramnath, and I’m excited...\n",
       "2     ### How to Prepare for This Course? We created...\n",
       "3     ### Are sessions recorded? We encourage you to...\n",
       "4     ## Doing Data Science ### What is Data Science...\n",
       "5     ## Data Science in Action The best way to get ...\n",
       "6     ## Importing Data Importing data refers to the...\n",
       "7     ## Visualizing Data Data visualization is a po...\n",
       "8     ## Transforming Data Visualizing data is a lot...\n",
       "9     ## Manipulating Data Recall how data manipulat...\n",
       "10    ## Aggregating Data **Aggregating** data invol...\n",
       "11    ## Reshaping Data **Reshaping** data is a fund...\n",
       "12    ## Combining Data **Combining** data spread ac...\n",
       "13    ## Grammar of Graphics The **Grammar of Graphi...\n",
       "14    ## Unisex Names <img src=\"https://fivethirtyei...\n",
       "Name: raw-text, dtype: object"
      ]
     },
     "execution_count": 31,
     "metadata": {},
     "output_type": "execute_result"
    }
   ],
   "source": [
    "notes_df[\"raw-text\"]"
   ]
  },
  {
   "cell_type": "code",
   "execution_count": 32,
   "id": "447af422",
   "metadata": {},
   "outputs": [
    {
     "data": {
      "text/html": [
       "<div>\n",
       "<style scoped>\n",
       "    .dataframe tbody tr th:only-of-type {\n",
       "        vertical-align: middle;\n",
       "    }\n",
       "\n",
       "    .dataframe tbody tr th {\n",
       "        vertical-align: top;\n",
       "    }\n",
       "\n",
       "    .dataframe thead th {\n",
       "        text-align: right;\n",
       "    }\n",
       "</style>\n",
       "<table border=\"1\" class=\"dataframe\">\n",
       "  <thead>\n",
       "    <tr style=\"text-align: right;\">\n",
       "      <th></th>\n",
       "      <th>url-slug</th>\n",
       "      <th>raw-md-url</th>\n",
       "      <th>raw-text</th>\n",
       "    </tr>\n",
       "  </thead>\n",
       "  <tbody>\n",
       "    <tr>\n",
       "      <th>1</th>\n",
       "      <td>week-00/01-welcome-to-r-for-ds/01-welcome-to-r...</td>\n",
       "      <td>https://raw.githubusercontent.com/ramnathv/cor...</td>\n",
       "      <td>### 👋 Hi!! Hello, I’m Ramnath, and I’m excited...</td>\n",
       "    </tr>\n",
       "    <tr>\n",
       "      <th>2</th>\n",
       "      <td>week-00/02-how-to-prepare-for-this-course/02-h...</td>\n",
       "      <td>https://raw.githubusercontent.com/ramnathv/cor...</td>\n",
       "      <td>### How to Prepare for This Course? We created...</td>\n",
       "    </tr>\n",
       "    <tr>\n",
       "      <th>3</th>\n",
       "      <td>week-00/03-logistic-faqs/03-logistic-faqs.md</td>\n",
       "      <td>https://raw.githubusercontent.com/ramnathv/cor...</td>\n",
       "      <td>### Are sessions recorded? We encourage you to...</td>\n",
       "    </tr>\n",
       "    <tr>\n",
       "      <th>4</th>\n",
       "      <td>week-01/01-doing-data-science/01-doing-data-sc...</td>\n",
       "      <td>https://raw.githubusercontent.com/ramnathv/cor...</td>\n",
       "      <td>## Doing Data Science ### What is Data Science...</td>\n",
       "    </tr>\n",
       "    <tr>\n",
       "      <th>5</th>\n",
       "      <td>week-01/02-data-science-in-action/02-data-scie...</td>\n",
       "      <td>https://raw.githubusercontent.com/ramnathv/cor...</td>\n",
       "      <td>## Data Science in Action The best way to get ...</td>\n",
       "    </tr>\n",
       "    <tr>\n",
       "      <th>6</th>\n",
       "      <td>week-01/03-importing-data/03-importing-data.md</td>\n",
       "      <td>https://raw.githubusercontent.com/ramnathv/cor...</td>\n",
       "      <td>## Importing Data Importing data refers to the...</td>\n",
       "    </tr>\n",
       "    <tr>\n",
       "      <th>7</th>\n",
       "      <td>week-01/04-visualizing-data/04-visualizing-dat...</td>\n",
       "      <td>https://raw.githubusercontent.com/ramnathv/cor...</td>\n",
       "      <td>## Visualizing Data Data visualization is a po...</td>\n",
       "    </tr>\n",
       "    <tr>\n",
       "      <th>8</th>\n",
       "      <td>week-01/05-transforming-data/05-transforming-d...</td>\n",
       "      <td>https://raw.githubusercontent.com/ramnathv/cor...</td>\n",
       "      <td>## Transforming Data Visualizing data is a lot...</td>\n",
       "    </tr>\n",
       "    <tr>\n",
       "      <th>9</th>\n",
       "      <td>week-01/06-manipulating-data/06-manipulating-d...</td>\n",
       "      <td>https://raw.githubusercontent.com/ramnathv/cor...</td>\n",
       "      <td>## Manipulating Data Recall how data manipulat...</td>\n",
       "    </tr>\n",
       "    <tr>\n",
       "      <th>10</th>\n",
       "      <td>week-02/01-aggregating-data/01-aggregating-dat...</td>\n",
       "      <td>https://raw.githubusercontent.com/ramnathv/cor...</td>\n",
       "      <td>## Aggregating Data **Aggregating** data invol...</td>\n",
       "    </tr>\n",
       "    <tr>\n",
       "      <th>11</th>\n",
       "      <td>week-02/02-reshaping-data/02-reshaping-data.md</td>\n",
       "      <td>https://raw.githubusercontent.com/ramnathv/cor...</td>\n",
       "      <td>## Reshaping Data **Reshaping** data is a fund...</td>\n",
       "    </tr>\n",
       "    <tr>\n",
       "      <th>12</th>\n",
       "      <td>week-02/03-combining-data/03-combining-data.md</td>\n",
       "      <td>https://raw.githubusercontent.com/ramnathv/cor...</td>\n",
       "      <td>## Combining Data **Combining** data spread ac...</td>\n",
       "    </tr>\n",
       "    <tr>\n",
       "      <th>13</th>\n",
       "      <td>week-02/04-grammar-of-graphics/04-grammar-of-g...</td>\n",
       "      <td>https://raw.githubusercontent.com/ramnathv/cor...</td>\n",
       "      <td>## Grammar of Graphics The **Grammar of Graphi...</td>\n",
       "    </tr>\n",
       "    <tr>\n",
       "      <th>14</th>\n",
       "      <td>week-02/05-data-science-in-action-again/05-dat...</td>\n",
       "      <td>https://raw.githubusercontent.com/ramnathv/cor...</td>\n",
       "      <td>## Unisex Names &lt;img src=\"https://fivethirtyei...</td>\n",
       "    </tr>\n",
       "  </tbody>\n",
       "</table>\n",
       "</div>"
      ],
      "text/plain": [
       "                                             url-slug   \n",
       "1   week-00/01-welcome-to-r-for-ds/01-welcome-to-r...  \\\n",
       "2   week-00/02-how-to-prepare-for-this-course/02-h...   \n",
       "3        week-00/03-logistic-faqs/03-logistic-faqs.md   \n",
       "4   week-01/01-doing-data-science/01-doing-data-sc...   \n",
       "5   week-01/02-data-science-in-action/02-data-scie...   \n",
       "6      week-01/03-importing-data/03-importing-data.md   \n",
       "7   week-01/04-visualizing-data/04-visualizing-dat...   \n",
       "8   week-01/05-transforming-data/05-transforming-d...   \n",
       "9   week-01/06-manipulating-data/06-manipulating-d...   \n",
       "10  week-02/01-aggregating-data/01-aggregating-dat...   \n",
       "11     week-02/02-reshaping-data/02-reshaping-data.md   \n",
       "12     week-02/03-combining-data/03-combining-data.md   \n",
       "13  week-02/04-grammar-of-graphics/04-grammar-of-g...   \n",
       "14  week-02/05-data-science-in-action-again/05-dat...   \n",
       "\n",
       "                                           raw-md-url   \n",
       "1   https://raw.githubusercontent.com/ramnathv/cor...  \\\n",
       "2   https://raw.githubusercontent.com/ramnathv/cor...   \n",
       "3   https://raw.githubusercontent.com/ramnathv/cor...   \n",
       "4   https://raw.githubusercontent.com/ramnathv/cor...   \n",
       "5   https://raw.githubusercontent.com/ramnathv/cor...   \n",
       "6   https://raw.githubusercontent.com/ramnathv/cor...   \n",
       "7   https://raw.githubusercontent.com/ramnathv/cor...   \n",
       "8   https://raw.githubusercontent.com/ramnathv/cor...   \n",
       "9   https://raw.githubusercontent.com/ramnathv/cor...   \n",
       "10  https://raw.githubusercontent.com/ramnathv/cor...   \n",
       "11  https://raw.githubusercontent.com/ramnathv/cor...   \n",
       "12  https://raw.githubusercontent.com/ramnathv/cor...   \n",
       "13  https://raw.githubusercontent.com/ramnathv/cor...   \n",
       "14  https://raw.githubusercontent.com/ramnathv/cor...   \n",
       "\n",
       "                                             raw-text  \n",
       "1   ### 👋 Hi!! Hello, I’m Ramnath, and I’m excited...  \n",
       "2   ### How to Prepare for This Course? We created...  \n",
       "3   ### Are sessions recorded? We encourage you to...  \n",
       "4   ## Doing Data Science ### What is Data Science...  \n",
       "5   ## Data Science in Action The best way to get ...  \n",
       "6   ## Importing Data Importing data refers to the...  \n",
       "7   ## Visualizing Data Data visualization is a po...  \n",
       "8   ## Transforming Data Visualizing data is a lot...  \n",
       "9   ## Manipulating Data Recall how data manipulat...  \n",
       "10  ## Aggregating Data **Aggregating** data invol...  \n",
       "11  ## Reshaping Data **Reshaping** data is a fund...  \n",
       "12  ## Combining Data **Combining** data spread ac...  \n",
       "13  ## Grammar of Graphics The **Grammar of Graphi...  \n",
       "14  ## Unisex Names <img src=\"https://fivethirtyei...  "
      ]
     },
     "execution_count": 32,
     "metadata": {},
     "output_type": "execute_result"
    }
   ],
   "source": [
    "notes_df"
   ]
  },
  {
   "cell_type": "code",
   "execution_count": 34,
   "id": "39c3b40e",
   "metadata": {},
   "outputs": [],
   "source": [
    "import hashlib\n",
    "\n",
    "doc_ids = []\n",
    "for _, row in notes_df.iterrows():\n",
    "    m = hashlib.sha256()\n",
    "    m.update(row[\"raw-text\"].encode(\"utf-8\"))\n",
    "    doc_ids.append(m.hexdigest())\n",
    "    \n",
    "notes_df.index = doc_ids"
   ]
  },
  {
   "cell_type": "code",
   "execution_count": 35,
   "id": "e66886af",
   "metadata": {},
   "outputs": [
    {
     "data": {
      "text/html": [
       "<div>\n",
       "<style scoped>\n",
       "    .dataframe tbody tr th:only-of-type {\n",
       "        vertical-align: middle;\n",
       "    }\n",
       "\n",
       "    .dataframe tbody tr th {\n",
       "        vertical-align: top;\n",
       "    }\n",
       "\n",
       "    .dataframe thead th {\n",
       "        text-align: right;\n",
       "    }\n",
       "</style>\n",
       "<table border=\"1\" class=\"dataframe\">\n",
       "  <thead>\n",
       "    <tr style=\"text-align: right;\">\n",
       "      <th></th>\n",
       "      <th>url-slug</th>\n",
       "      <th>raw-md-url</th>\n",
       "      <th>raw-text</th>\n",
       "    </tr>\n",
       "  </thead>\n",
       "  <tbody>\n",
       "    <tr>\n",
       "      <th>a434686a0ac1866c5af1f6f0ea43d6ffc625fc644b666808b38c327f6541438a</th>\n",
       "      <td>week-00/01-welcome-to-r-for-ds/01-welcome-to-r...</td>\n",
       "      <td>https://raw.githubusercontent.com/ramnathv/cor...</td>\n",
       "      <td>### 👋 Hi!! Hello, I’m Ramnath, and I’m excited...</td>\n",
       "    </tr>\n",
       "    <tr>\n",
       "      <th>385725cc2f629f0141cdd07e9f9429cc295e50127a8d3a48cf00299861a27632</th>\n",
       "      <td>week-00/02-how-to-prepare-for-this-course/02-h...</td>\n",
       "      <td>https://raw.githubusercontent.com/ramnathv/cor...</td>\n",
       "      <td>### How to Prepare for This Course? We created...</td>\n",
       "    </tr>\n",
       "    <tr>\n",
       "      <th>baceb34a1eef801d5cbc0142fe236a9963ef410aa68d66386f0b7c27840d0bbe</th>\n",
       "      <td>week-00/03-logistic-faqs/03-logistic-faqs.md</td>\n",
       "      <td>https://raw.githubusercontent.com/ramnathv/cor...</td>\n",
       "      <td>### Are sessions recorded? We encourage you to...</td>\n",
       "    </tr>\n",
       "    <tr>\n",
       "      <th>6c0055b418bc94ceffb2e41affd914d5c2f7b7ccd731bd793544f57feaf59656</th>\n",
       "      <td>week-01/01-doing-data-science/01-doing-data-sc...</td>\n",
       "      <td>https://raw.githubusercontent.com/ramnathv/cor...</td>\n",
       "      <td>## Doing Data Science ### What is Data Science...</td>\n",
       "    </tr>\n",
       "    <tr>\n",
       "      <th>1c24a88fbeee8bb4689caa9e846202e8fe45a92209b7c3a51a22bf2d5ccaa246</th>\n",
       "      <td>week-01/02-data-science-in-action/02-data-scie...</td>\n",
       "      <td>https://raw.githubusercontent.com/ramnathv/cor...</td>\n",
       "      <td>## Data Science in Action The best way to get ...</td>\n",
       "    </tr>\n",
       "    <tr>\n",
       "      <th>8a535455f2483f17f73c396e3272763f2c8e90d266d781b4aa4d938e5198b596</th>\n",
       "      <td>week-01/03-importing-data/03-importing-data.md</td>\n",
       "      <td>https://raw.githubusercontent.com/ramnathv/cor...</td>\n",
       "      <td>## Importing Data Importing data refers to the...</td>\n",
       "    </tr>\n",
       "    <tr>\n",
       "      <th>cad7e117b485864a2acbacd64fd1286f486e3fc1f87c520b4873c058f95dd9c5</th>\n",
       "      <td>week-01/04-visualizing-data/04-visualizing-dat...</td>\n",
       "      <td>https://raw.githubusercontent.com/ramnathv/cor...</td>\n",
       "      <td>## Visualizing Data Data visualization is a po...</td>\n",
       "    </tr>\n",
       "    <tr>\n",
       "      <th>208e0f93266461c6ea1e8fb10b264b16ba6b9b2b5bfc88d1c28c070f67aaeece</th>\n",
       "      <td>week-01/05-transforming-data/05-transforming-d...</td>\n",
       "      <td>https://raw.githubusercontent.com/ramnathv/cor...</td>\n",
       "      <td>## Transforming Data Visualizing data is a lot...</td>\n",
       "    </tr>\n",
       "    <tr>\n",
       "      <th>fe75fd8edf3c0a4e57f398f1a029a0b9cedca9ddd6cdb00ce44b14d7775bf475</th>\n",
       "      <td>week-01/06-manipulating-data/06-manipulating-d...</td>\n",
       "      <td>https://raw.githubusercontent.com/ramnathv/cor...</td>\n",
       "      <td>## Manipulating Data Recall how data manipulat...</td>\n",
       "    </tr>\n",
       "    <tr>\n",
       "      <th>5704a131445ffc871667a085fb8de8deb6fa9015babd6139071da88643bdf413</th>\n",
       "      <td>week-02/01-aggregating-data/01-aggregating-dat...</td>\n",
       "      <td>https://raw.githubusercontent.com/ramnathv/cor...</td>\n",
       "      <td>## Aggregating Data **Aggregating** data invol...</td>\n",
       "    </tr>\n",
       "    <tr>\n",
       "      <th>5ceb7c9a89130ac7e37b7be8fd06b0c443c663ce8f379834ec00340d69f4c74d</th>\n",
       "      <td>week-02/02-reshaping-data/02-reshaping-data.md</td>\n",
       "      <td>https://raw.githubusercontent.com/ramnathv/cor...</td>\n",
       "      <td>## Reshaping Data **Reshaping** data is a fund...</td>\n",
       "    </tr>\n",
       "    <tr>\n",
       "      <th>ad73c3aa395b6d4476b5c56a662641b497d27bd36fca6db77113b32304ad30bf</th>\n",
       "      <td>week-02/03-combining-data/03-combining-data.md</td>\n",
       "      <td>https://raw.githubusercontent.com/ramnathv/cor...</td>\n",
       "      <td>## Combining Data **Combining** data spread ac...</td>\n",
       "    </tr>\n",
       "    <tr>\n",
       "      <th>f4978f0305632432f7de10d49ed099a81109ded424f614f8dfcd7b418c46fe6a</th>\n",
       "      <td>week-02/04-grammar-of-graphics/04-grammar-of-g...</td>\n",
       "      <td>https://raw.githubusercontent.com/ramnathv/cor...</td>\n",
       "      <td>## Grammar of Graphics The **Grammar of Graphi...</td>\n",
       "    </tr>\n",
       "    <tr>\n",
       "      <th>81b747b911bad20c61b46e3fbeef4dfa15947e1ec6be6ceb813bdabb02e6060e</th>\n",
       "      <td>week-02/05-data-science-in-action-again/05-dat...</td>\n",
       "      <td>https://raw.githubusercontent.com/ramnathv/cor...</td>\n",
       "      <td>## Unisex Names &lt;img src=\"https://fivethirtyei...</td>\n",
       "    </tr>\n",
       "  </tbody>\n",
       "</table>\n",
       "</div>"
      ],
      "text/plain": [
       "                                                                                             url-slug   \n",
       "a434686a0ac1866c5af1f6f0ea43d6ffc625fc644b66680...  week-00/01-welcome-to-r-for-ds/01-welcome-to-r...  \\\n",
       "385725cc2f629f0141cdd07e9f9429cc295e50127a8d3a4...  week-00/02-how-to-prepare-for-this-course/02-h...   \n",
       "baceb34a1eef801d5cbc0142fe236a9963ef410aa68d663...       week-00/03-logistic-faqs/03-logistic-faqs.md   \n",
       "6c0055b418bc94ceffb2e41affd914d5c2f7b7ccd731bd7...  week-01/01-doing-data-science/01-doing-data-sc...   \n",
       "1c24a88fbeee8bb4689caa9e846202e8fe45a92209b7c3a...  week-01/02-data-science-in-action/02-data-scie...   \n",
       "8a535455f2483f17f73c396e3272763f2c8e90d266d781b...     week-01/03-importing-data/03-importing-data.md   \n",
       "cad7e117b485864a2acbacd64fd1286f486e3fc1f87c520...  week-01/04-visualizing-data/04-visualizing-dat...   \n",
       "208e0f93266461c6ea1e8fb10b264b16ba6b9b2b5bfc88d...  week-01/05-transforming-data/05-transforming-d...   \n",
       "fe75fd8edf3c0a4e57f398f1a029a0b9cedca9ddd6cdb00...  week-01/06-manipulating-data/06-manipulating-d...   \n",
       "5704a131445ffc871667a085fb8de8deb6fa9015babd613...  week-02/01-aggregating-data/01-aggregating-dat...   \n",
       "5ceb7c9a89130ac7e37b7be8fd06b0c443c663ce8f37983...     week-02/02-reshaping-data/02-reshaping-data.md   \n",
       "ad73c3aa395b6d4476b5c56a662641b497d27bd36fca6db...     week-02/03-combining-data/03-combining-data.md   \n",
       "f4978f0305632432f7de10d49ed099a81109ded424f614f...  week-02/04-grammar-of-graphics/04-grammar-of-g...   \n",
       "81b747b911bad20c61b46e3fbeef4dfa15947e1ec6be6ce...  week-02/05-data-science-in-action-again/05-dat...   \n",
       "\n",
       "                                                                                           raw-md-url   \n",
       "a434686a0ac1866c5af1f6f0ea43d6ffc625fc644b66680...  https://raw.githubusercontent.com/ramnathv/cor...  \\\n",
       "385725cc2f629f0141cdd07e9f9429cc295e50127a8d3a4...  https://raw.githubusercontent.com/ramnathv/cor...   \n",
       "baceb34a1eef801d5cbc0142fe236a9963ef410aa68d663...  https://raw.githubusercontent.com/ramnathv/cor...   \n",
       "6c0055b418bc94ceffb2e41affd914d5c2f7b7ccd731bd7...  https://raw.githubusercontent.com/ramnathv/cor...   \n",
       "1c24a88fbeee8bb4689caa9e846202e8fe45a92209b7c3a...  https://raw.githubusercontent.com/ramnathv/cor...   \n",
       "8a535455f2483f17f73c396e3272763f2c8e90d266d781b...  https://raw.githubusercontent.com/ramnathv/cor...   \n",
       "cad7e117b485864a2acbacd64fd1286f486e3fc1f87c520...  https://raw.githubusercontent.com/ramnathv/cor...   \n",
       "208e0f93266461c6ea1e8fb10b264b16ba6b9b2b5bfc88d...  https://raw.githubusercontent.com/ramnathv/cor...   \n",
       "fe75fd8edf3c0a4e57f398f1a029a0b9cedca9ddd6cdb00...  https://raw.githubusercontent.com/ramnathv/cor...   \n",
       "5704a131445ffc871667a085fb8de8deb6fa9015babd613...  https://raw.githubusercontent.com/ramnathv/cor...   \n",
       "5ceb7c9a89130ac7e37b7be8fd06b0c443c663ce8f37983...  https://raw.githubusercontent.com/ramnathv/cor...   \n",
       "ad73c3aa395b6d4476b5c56a662641b497d27bd36fca6db...  https://raw.githubusercontent.com/ramnathv/cor...   \n",
       "f4978f0305632432f7de10d49ed099a81109ded424f614f...  https://raw.githubusercontent.com/ramnathv/cor...   \n",
       "81b747b911bad20c61b46e3fbeef4dfa15947e1ec6be6ce...  https://raw.githubusercontent.com/ramnathv/cor...   \n",
       "\n",
       "                                                                                             raw-text  \n",
       "a434686a0ac1866c5af1f6f0ea43d6ffc625fc644b66680...  ### 👋 Hi!! Hello, I’m Ramnath, and I’m excited...  \n",
       "385725cc2f629f0141cdd07e9f9429cc295e50127a8d3a4...  ### How to Prepare for This Course? We created...  \n",
       "baceb34a1eef801d5cbc0142fe236a9963ef410aa68d663...  ### Are sessions recorded? We encourage you to...  \n",
       "6c0055b418bc94ceffb2e41affd914d5c2f7b7ccd731bd7...  ## Doing Data Science ### What is Data Science...  \n",
       "1c24a88fbeee8bb4689caa9e846202e8fe45a92209b7c3a...  ## Data Science in Action The best way to get ...  \n",
       "8a535455f2483f17f73c396e3272763f2c8e90d266d781b...  ## Importing Data Importing data refers to the...  \n",
       "cad7e117b485864a2acbacd64fd1286f486e3fc1f87c520...  ## Visualizing Data Data visualization is a po...  \n",
       "208e0f93266461c6ea1e8fb10b264b16ba6b9b2b5bfc88d...  ## Transforming Data Visualizing data is a lot...  \n",
       "fe75fd8edf3c0a4e57f398f1a029a0b9cedca9ddd6cdb00...  ## Manipulating Data Recall how data manipulat...  \n",
       "5704a131445ffc871667a085fb8de8deb6fa9015babd613...  ## Aggregating Data **Aggregating** data invol...  \n",
       "5ceb7c9a89130ac7e37b7be8fd06b0c443c663ce8f37983...  ## Reshaping Data **Reshaping** data is a fund...  \n",
       "ad73c3aa395b6d4476b5c56a662641b497d27bd36fca6db...  ## Combining Data **Combining** data spread ac...  \n",
       "f4978f0305632432f7de10d49ed099a81109ded424f614f...  ## Grammar of Graphics The **Grammar of Graphi...  \n",
       "81b747b911bad20c61b46e3fbeef4dfa15947e1ec6be6ce...  ## Unisex Names <img src=\"https://fivethirtyei...  "
      ]
     },
     "execution_count": 35,
     "metadata": {},
     "output_type": "execute_result"
    }
   ],
   "source": [
    "notes_df"
   ]
  },
  {
   "cell_type": "markdown",
   "id": "788ee99e",
   "metadata": {},
   "source": [
    "## Persist to Disk"
   ]
  },
  {
   "cell_type": "markdown",
   "id": "4efc2f61",
   "metadata": {},
   "source": [
    "As a first step to persisting our corpus,\n",
    "let's save it to disk and reload it.\n",
    "\n",
    "The data involved is relatively simple --\n",
    "basically all strings --\n",
    "so we don't need to `pickle` the `DataFrame`,\n",
    "which comes with its own woes.\n",
    "\n",
    "Instead, we just format it as `JSON` --\n",
    "the web's favorite serialization format."
   ]
  },
  {
   "cell_type": "code",
   "execution_count": 36,
   "id": "f5513f7f",
   "metadata": {},
   "outputs": [],
   "source": [
    "documents_json = notes_df.to_json(orient=\"index\", index=True)"
   ]
  },
  {
   "cell_type": "code",
   "execution_count": 37,
   "id": "ed747fd9",
   "metadata": {},
   "outputs": [],
   "source": [
    "with open(\"documents.json\", \"w\") as f:\n",
    "    f.write(documents_json)"
   ]
  },
  {
   "cell_type": "markdown",
   "id": "38a2eb6a",
   "metadata": {},
   "source": [
    "Before moving on,\n",
    "let's check that we can in fact reload the data."
   ]
  },
  {
   "cell_type": "code",
   "execution_count": 38,
   "id": "66e8bf50",
   "metadata": {},
   "outputs": [],
   "source": [
    "import json\n",
    "\n",
    "with open(\"documents.json\") as f:\n",
    "    s = f.read()\n",
    "    \n",
    "key, document = list(json.loads(s).items())[0]"
   ]
  },
  {
   "cell_type": "markdown",
   "id": "760de973",
   "metadata": {},
   "source": [
    "## Put into MongoDB"
   ]
  },
  {
   "cell_type": "markdown",
   "id": "ac4939c2",
   "metadata": {},
   "source": [
    "But a local filesystem isn't a good method for persistence.\n",
    "\n",
    "We want these documents to be available via an API,\n",
    "with the ability to scale reads and writes if needed.\n",
    "\n",
    "So let's put them in a database.\n",
    "\n",
    "We choose MongoDB simply for convenience --\n",
    "we don't want to define a schema just yet,\n",
    "since these tools are evolving rapidly,\n",
    "and there are nice free hosting options.\n",
    "\n",
    "> MongoDB is, in NoSQL terms, a \"document database\",\n",
    "but the term document means something different\n",
    "than it does in \"Document Q&A\".\n",
    "In Mongoland, a \"document\" is just a blob of JSON.\n",
    "We format our Q&A documents as JSON\n",
    "and store them in Mongo,\n",
    "so the distinction is not obvious here."
   ]
  },
  {
   "cell_type": "markdown",
   "id": "20e6dd65",
   "metadata": {},
   "source": [
    "If you're running this yourself,\n",
    "you'll need to create a hosted MongoDB instance\n",
    "and add a database called `fsdl`\n",
    "with a collection called `ask-fsdl`.\n",
    "\n",
    "You can find instructions\n",
    "[here](https://www.mongodb.com/basics/mongodb-atlas-tutorial).\n",
    "\n",
    "You'll need the URL and password info\n",
    "from that setup process to connect.\n",
    "\n",
    "Add them to the `.env` file."
   ]
  },
  {
   "cell_type": "code",
   "execution_count": 39,
   "id": "9b989c7a",
   "metadata": {},
   "outputs": [
    {
     "data": {
      "text/plain": [
       "Collection(Database(MongoClient(host=['ac-mmh8jah-shard-00-02.6fpuqjc.mongodb.net:27017', 'ac-mmh8jah-shard-00-01.6fpuqjc.mongodb.net:27017', 'ac-mmh8jah-shard-00-00.6fpuqjc.mongodb.net:27017'], document_class=dict, tz_aware=False, connect=True, retrywrites=True, w='majority', authsource='admin', replicaset='atlas-q5qzwz-shard-0', tls=True), 'Cluster0'), 'Cluster0')"
      ]
     },
     "execution_count": 39,
     "metadata": {},
     "output_type": "execute_result"
    }
   ],
   "source": [
    "import json\n",
    "import os\n",
    "\n",
    "from dotenv import load_dotenv\n",
    "import pymongo\n",
    "from pymongo import InsertOne\n",
    "\n",
    "load_dotenv()\n",
    "\n",
    "mongodb_url = os.environ[\"MONGODB_URI\"]\n",
    "mongodb_password = os.environ[\"MONGODB_PASSWORD\"]\n",
    "\n",
    "CONNECTION_STRING = os.environ[\"MONGODB_URI\"]\n",
    "\n",
    "# connect to the database server\n",
    "client = pymongo.MongoClient(CONNECTION_STRING)\n",
    "# connect to the database\n",
    "db = client.get_database(\"Cluster0\")\n",
    "# get a representation of the collection\n",
    "collection = db.get_collection(\"Cluster0\")\n",
    "\n",
    "collection"
   ]
  },
  {
   "cell_type": "markdown",
   "id": "a91e779e",
   "metadata": {},
   "source": [
    "Now that we're connected,\n",
    "we're ready to upsert.\n",
    "\n",
    "We loop over the documents -- loaded from disk --\n",
    "and format them into a Python dictionary\n",
    "that fits our `Document` pseudoschema.\n",
    "\n",
    "With `pymongo`,\n",
    "we can just insert that dictionary directly,\n",
    "using `InsertOne`,\n",
    "and use `bulk_write` to get batching."
   ]
  },
  {
   "cell_type": "code",
   "execution_count": 41,
   "id": "4866dab8",
   "metadata": {},
   "outputs": [
    {
     "ename": "ServerSelectionTimeoutError",
     "evalue": "ac-mmh8jah-shard-00-02.6fpuqjc.mongodb.net:27017: connection closed,ac-mmh8jah-shard-00-01.6fpuqjc.mongodb.net:27017: connection closed,ac-mmh8jah-shard-00-00.6fpuqjc.mongodb.net:27017: connection closed, Timeout: 30s, Topology Description: <TopologyDescription id: 64665d1d8e52252417b710e7, topology_type: ReplicaSetNoPrimary, servers: [<ServerDescription ('ac-mmh8jah-shard-00-00.6fpuqjc.mongodb.net', 27017) server_type: Unknown, rtt: None, error=AutoReconnect('ac-mmh8jah-shard-00-00.6fpuqjc.mongodb.net:27017: connection closed')>, <ServerDescription ('ac-mmh8jah-shard-00-01.6fpuqjc.mongodb.net', 27017) server_type: Unknown, rtt: None, error=AutoReconnect('ac-mmh8jah-shard-00-01.6fpuqjc.mongodb.net:27017: connection closed')>, <ServerDescription ('ac-mmh8jah-shard-00-02.6fpuqjc.mongodb.net', 27017) server_type: Unknown, rtt: None, error=AutoReconnect('ac-mmh8jah-shard-00-02.6fpuqjc.mongodb.net:27017: connection closed')>]>",
     "output_type": "error",
     "traceback": [
      "\u001b[0;31m---------------------------------------------------------------------------\u001b[0m",
      "\u001b[0;31mServerSelectionTimeoutError\u001b[0m               Traceback (most recent call last)",
      "Cell \u001b[0;32mIn[41], line 19\u001b[0m\n\u001b[1;32m     16\u001b[0m         requesting \u001b[39m=\u001b[39m []\n\u001b[1;32m     18\u001b[0m \u001b[39mif\u001b[39;00m requesting:\n\u001b[0;32m---> 19\u001b[0m     collection\u001b[39m.\u001b[39;49mbulk_write(requesting)\n\u001b[1;32m     20\u001b[0m     requesting \u001b[39m=\u001b[39m []\n",
      "File \u001b[0;32m~/.python/current/lib/python3.10/site-packages/pymongo/_csot.py:105\u001b[0m, in \u001b[0;36mapply.<locals>.csot_wrapper\u001b[0;34m(self, *args, **kwargs)\u001b[0m\n\u001b[1;32m    103\u001b[0m         \u001b[39mwith\u001b[39;00m _TimeoutContext(timeout):\n\u001b[1;32m    104\u001b[0m             \u001b[39mreturn\u001b[39;00m func(\u001b[39mself\u001b[39m, \u001b[39m*\u001b[39margs, \u001b[39m*\u001b[39m\u001b[39m*\u001b[39mkwargs)\n\u001b[0;32m--> 105\u001b[0m \u001b[39mreturn\u001b[39;00m func(\u001b[39mself\u001b[39;49m, \u001b[39m*\u001b[39;49margs, \u001b[39m*\u001b[39;49m\u001b[39m*\u001b[39;49mkwargs)\n",
      "File \u001b[0;32m~/.python/current/lib/python3.10/site-packages/pymongo/collection.py:538\u001b[0m, in \u001b[0;36mCollection.bulk_write\u001b[0;34m(self, requests, ordered, bypass_document_validation, session, comment, let)\u001b[0m\n\u001b[1;32m    535\u001b[0m         \u001b[39mraise\u001b[39;00m \u001b[39mTypeError\u001b[39;00m(\u001b[39m\"\u001b[39m\u001b[39m%r\u001b[39;00m\u001b[39m is not a valid request\u001b[39m\u001b[39m\"\u001b[39m \u001b[39m%\u001b[39m (request,))\n\u001b[1;32m    537\u001b[0m write_concern \u001b[39m=\u001b[39m \u001b[39mself\u001b[39m\u001b[39m.\u001b[39m_write_concern_for(session)\n\u001b[0;32m--> 538\u001b[0m bulk_api_result \u001b[39m=\u001b[39m blk\u001b[39m.\u001b[39;49mexecute(write_concern, session)\n\u001b[1;32m    539\u001b[0m \u001b[39mif\u001b[39;00m bulk_api_result \u001b[39mis\u001b[39;00m \u001b[39mnot\u001b[39;00m \u001b[39mNone\u001b[39;00m:\n\u001b[1;32m    540\u001b[0m     \u001b[39mreturn\u001b[39;00m BulkWriteResult(bulk_api_result, \u001b[39mTrue\u001b[39;00m)\n",
      "File \u001b[0;32m~/.python/current/lib/python3.10/site-packages/pymongo/bulk.py:513\u001b[0m, in \u001b[0;36m_Bulk.execute\u001b[0;34m(self, write_concern, session)\u001b[0m\n\u001b[1;32m    511\u001b[0m         \u001b[39mself\u001b[39m\u001b[39m.\u001b[39mexecute_no_results(sock_info, generator, write_concern)\n\u001b[1;32m    512\u001b[0m \u001b[39melse\u001b[39;00m:\n\u001b[0;32m--> 513\u001b[0m     \u001b[39mreturn\u001b[39;00m \u001b[39mself\u001b[39;49m\u001b[39m.\u001b[39;49mexecute_command(generator, write_concern, session)\n",
      "File \u001b[0;32m~/.python/current/lib/python3.10/site-packages/pymongo/bulk.py:390\u001b[0m, in \u001b[0;36m_Bulk.execute_command\u001b[0;34m(self, generator, write_concern, session)\u001b[0m\n\u001b[1;32m    385\u001b[0m     \u001b[39mself\u001b[39m\u001b[39m.\u001b[39m_execute_command(\n\u001b[1;32m    386\u001b[0m         generator, write_concern, session, sock_info, op_id, retryable, full_result\n\u001b[1;32m    387\u001b[0m     )\n\u001b[1;32m    389\u001b[0m client \u001b[39m=\u001b[39m \u001b[39mself\u001b[39m\u001b[39m.\u001b[39mcollection\u001b[39m.\u001b[39mdatabase\u001b[39m.\u001b[39mclient\n\u001b[0;32m--> 390\u001b[0m \u001b[39mwith\u001b[39;00m client\u001b[39m.\u001b[39m_tmp_session(session) \u001b[39mas\u001b[39;00m s:\n\u001b[1;32m    391\u001b[0m     client\u001b[39m.\u001b[39m_retry_with_session(\u001b[39mself\u001b[39m\u001b[39m.\u001b[39mis_retryable, retryable_bulk, s, \u001b[39mself\u001b[39m)\n\u001b[1;32m    393\u001b[0m \u001b[39mif\u001b[39;00m full_result[\u001b[39m\"\u001b[39m\u001b[39mwriteErrors\u001b[39m\u001b[39m\"\u001b[39m] \u001b[39mor\u001b[39;00m full_result[\u001b[39m\"\u001b[39m\u001b[39mwriteConcernErrors\u001b[39m\u001b[39m\"\u001b[39m]:\n",
      "File \u001b[0;32m~/.python/current/lib/python3.10/contextlib.py:135\u001b[0m, in \u001b[0;36m_GeneratorContextManager.__enter__\u001b[0;34m(self)\u001b[0m\n\u001b[1;32m    133\u001b[0m \u001b[39mdel\u001b[39;00m \u001b[39mself\u001b[39m\u001b[39m.\u001b[39margs, \u001b[39mself\u001b[39m\u001b[39m.\u001b[39mkwds, \u001b[39mself\u001b[39m\u001b[39m.\u001b[39mfunc\n\u001b[1;32m    134\u001b[0m \u001b[39mtry\u001b[39;00m:\n\u001b[0;32m--> 135\u001b[0m     \u001b[39mreturn\u001b[39;00m \u001b[39mnext\u001b[39;49m(\u001b[39mself\u001b[39;49m\u001b[39m.\u001b[39;49mgen)\n\u001b[1;32m    136\u001b[0m \u001b[39mexcept\u001b[39;00m \u001b[39mStopIteration\u001b[39;00m:\n\u001b[1;32m    137\u001b[0m     \u001b[39mraise\u001b[39;00m \u001b[39mRuntimeError\u001b[39;00m(\u001b[39m\"\u001b[39m\u001b[39mgenerator didn\u001b[39m\u001b[39m'\u001b[39m\u001b[39mt yield\u001b[39m\u001b[39m\"\u001b[39m) \u001b[39mfrom\u001b[39;00m \u001b[39mNone\u001b[39;00m\n",
      "File \u001b[0;32m~/.python/current/lib/python3.10/site-packages/pymongo/mongo_client.py:1757\u001b[0m, in \u001b[0;36mMongoClient._tmp_session\u001b[0;34m(self, session, close)\u001b[0m\n\u001b[1;32m   1754\u001b[0m     \u001b[39myield\u001b[39;00m session\n\u001b[1;32m   1755\u001b[0m     \u001b[39mreturn\u001b[39;00m\n\u001b[0;32m-> 1757\u001b[0m s \u001b[39m=\u001b[39m \u001b[39mself\u001b[39;49m\u001b[39m.\u001b[39;49m_ensure_session(session)\n\u001b[1;32m   1758\u001b[0m \u001b[39mif\u001b[39;00m s:\n\u001b[1;32m   1759\u001b[0m     \u001b[39mtry\u001b[39;00m:\n",
      "File \u001b[0;32m~/.python/current/lib/python3.10/site-packages/pymongo/mongo_client.py:1740\u001b[0m, in \u001b[0;36mMongoClient._ensure_session\u001b[0;34m(self, session)\u001b[0m\n\u001b[1;32m   1735\u001b[0m     \u001b[39mreturn\u001b[39;00m session\n\u001b[1;32m   1737\u001b[0m \u001b[39mtry\u001b[39;00m:\n\u001b[1;32m   1738\u001b[0m     \u001b[39m# Don't make implicit sessions causally consistent. Applications\u001b[39;00m\n\u001b[1;32m   1739\u001b[0m     \u001b[39m# should always opt-in.\u001b[39;00m\n\u001b[0;32m-> 1740\u001b[0m     \u001b[39mreturn\u001b[39;00m \u001b[39mself\u001b[39;49m\u001b[39m.\u001b[39;49m__start_session(\u001b[39mTrue\u001b[39;49;00m, causal_consistency\u001b[39m=\u001b[39;49m\u001b[39mFalse\u001b[39;49;00m)\n\u001b[1;32m   1741\u001b[0m \u001b[39mexcept\u001b[39;00m (ConfigurationError, InvalidOperation):\n\u001b[1;32m   1742\u001b[0m     \u001b[39m# Sessions not supported.\u001b[39;00m\n\u001b[1;32m   1743\u001b[0m     \u001b[39mreturn\u001b[39;00m \u001b[39mNone\u001b[39;00m\n",
      "File \u001b[0;32m~/.python/current/lib/python3.10/site-packages/pymongo/mongo_client.py:1685\u001b[0m, in \u001b[0;36mMongoClient.__start_session\u001b[0;34m(self, implicit, **kwargs)\u001b[0m\n\u001b[1;32m   1682\u001b[0m \u001b[39mdef\u001b[39;00m \u001b[39m__start_session\u001b[39m(\u001b[39mself\u001b[39m, implicit, \u001b[39m*\u001b[39m\u001b[39m*\u001b[39mkwargs):\n\u001b[1;32m   1683\u001b[0m     \u001b[39m# Raises ConfigurationError if sessions are not supported.\u001b[39;00m\n\u001b[1;32m   1684\u001b[0m     \u001b[39mif\u001b[39;00m implicit:\n\u001b[0;32m-> 1685\u001b[0m         \u001b[39mself\u001b[39;49m\u001b[39m.\u001b[39;49m_topology\u001b[39m.\u001b[39;49m_check_implicit_session_support()\n\u001b[1;32m   1686\u001b[0m         server_session \u001b[39m=\u001b[39m _EmptyServerSession()\n\u001b[1;32m   1687\u001b[0m     \u001b[39melse\u001b[39;00m:\n",
      "File \u001b[0;32m~/.python/current/lib/python3.10/site-packages/pymongo/topology.py:538\u001b[0m, in \u001b[0;36mTopology._check_implicit_session_support\u001b[0;34m(self)\u001b[0m\n\u001b[1;32m    536\u001b[0m \u001b[39mdef\u001b[39;00m \u001b[39m_check_implicit_session_support\u001b[39m(\u001b[39mself\u001b[39m):\n\u001b[1;32m    537\u001b[0m     \u001b[39mwith\u001b[39;00m \u001b[39mself\u001b[39m\u001b[39m.\u001b[39m_lock:\n\u001b[0;32m--> 538\u001b[0m         \u001b[39mself\u001b[39;49m\u001b[39m.\u001b[39;49m_check_session_support()\n",
      "File \u001b[0;32m~/.python/current/lib/python3.10/site-packages/pymongo/topology.py:554\u001b[0m, in \u001b[0;36mTopology._check_session_support\u001b[0;34m(self)\u001b[0m\n\u001b[1;32m    550\u001b[0m         \u001b[39mself\u001b[39m\u001b[39m.\u001b[39m_select_servers_loop(\n\u001b[1;32m    551\u001b[0m             any_server_selector, \u001b[39mself\u001b[39m\u001b[39m.\u001b[39mget_server_selection_timeout(), \u001b[39mNone\u001b[39;00m\n\u001b[1;32m    552\u001b[0m         )\n\u001b[1;32m    553\u001b[0m \u001b[39melif\u001b[39;00m \u001b[39mnot\u001b[39;00m \u001b[39mself\u001b[39m\u001b[39m.\u001b[39m_description\u001b[39m.\u001b[39mreadable_servers:\n\u001b[0;32m--> 554\u001b[0m     \u001b[39mself\u001b[39;49m\u001b[39m.\u001b[39;49m_select_servers_loop(\n\u001b[1;32m    555\u001b[0m         readable_server_selector, \u001b[39mself\u001b[39;49m\u001b[39m.\u001b[39;49mget_server_selection_timeout(), \u001b[39mNone\u001b[39;49;00m\n\u001b[1;32m    556\u001b[0m     )\n\u001b[1;32m    558\u001b[0m session_timeout \u001b[39m=\u001b[39m \u001b[39mself\u001b[39m\u001b[39m.\u001b[39m_description\u001b[39m.\u001b[39mlogical_session_timeout_minutes\n\u001b[1;32m    559\u001b[0m \u001b[39mif\u001b[39;00m session_timeout \u001b[39mis\u001b[39;00m \u001b[39mNone\u001b[39;00m:\n",
      "File \u001b[0;32m~/.python/current/lib/python3.10/site-packages/pymongo/topology.py:238\u001b[0m, in \u001b[0;36mTopology._select_servers_loop\u001b[0;34m(self, selector, timeout, address)\u001b[0m\n\u001b[1;32m    235\u001b[0m \u001b[39mwhile\u001b[39;00m \u001b[39mnot\u001b[39;00m server_descriptions:\n\u001b[1;32m    236\u001b[0m     \u001b[39m# No suitable servers.\u001b[39;00m\n\u001b[1;32m    237\u001b[0m     \u001b[39mif\u001b[39;00m timeout \u001b[39m==\u001b[39m \u001b[39m0\u001b[39m \u001b[39mor\u001b[39;00m now \u001b[39m>\u001b[39m end_time:\n\u001b[0;32m--> 238\u001b[0m         \u001b[39mraise\u001b[39;00m ServerSelectionTimeoutError(\n\u001b[1;32m    239\u001b[0m             \u001b[39m\"\u001b[39m\u001b[39m%s\u001b[39;00m\u001b[39m, Timeout: \u001b[39m\u001b[39m%s\u001b[39;00m\u001b[39ms, Topology Description: \u001b[39m\u001b[39m%r\u001b[39;00m\u001b[39m\"\u001b[39m\n\u001b[1;32m    240\u001b[0m             \u001b[39m%\u001b[39m (\u001b[39mself\u001b[39m\u001b[39m.\u001b[39m_error_message(selector), timeout, \u001b[39mself\u001b[39m\u001b[39m.\u001b[39mdescription)\n\u001b[1;32m    241\u001b[0m         )\n\u001b[1;32m    243\u001b[0m     \u001b[39mself\u001b[39m\u001b[39m.\u001b[39m_ensure_opened()\n\u001b[1;32m    244\u001b[0m     \u001b[39mself\u001b[39m\u001b[39m.\u001b[39m_request_check_all()\n",
      "\u001b[0;31mServerSelectionTimeoutError\u001b[0m: ac-mmh8jah-shard-00-02.6fpuqjc.mongodb.net:27017: connection closed,ac-mmh8jah-shard-00-01.6fpuqjc.mongodb.net:27017: connection closed,ac-mmh8jah-shard-00-00.6fpuqjc.mongodb.net:27017: connection closed, Timeout: 30s, Topology Description: <TopologyDescription id: 64665d1d8e52252417b710e7, topology_type: ReplicaSetNoPrimary, servers: [<ServerDescription ('ac-mmh8jah-shard-00-00.6fpuqjc.mongodb.net', 27017) server_type: Unknown, rtt: None, error=AutoReconnect('ac-mmh8jah-shard-00-00.6fpuqjc.mongodb.net:27017: connection closed')>, <ServerDescription ('ac-mmh8jah-shard-00-01.6fpuqjc.mongodb.net', 27017) server_type: Unknown, rtt: None, error=AutoReconnect('ac-mmh8jah-shard-00-01.6fpuqjc.mongodb.net:27017: connection closed')>, <ServerDescription ('ac-mmh8jah-shard-00-02.6fpuqjc.mongodb.net', 27017) server_type: Unknown, rtt: None, error=AutoReconnect('ac-mmh8jah-shard-00-02.6fpuqjc.mongodb.net:27017: connection closed')>]>"
     ]
    }
   ],
   "source": [
    "CHUNK_SIZE = 250\n",
    "requesting = []\n",
    "\n",
    "with open(\"documents.json\") as f:\n",
    "    documents = json.load(f)\n",
    "\n",
    "\n",
    "for (sha_hash, content) in documents.items():\n",
    "    metadata = {key: value for key, value in content.items() if key != \"text\"}\n",
    "    metadata[\"sha256\"] = sha_hash\n",
    "    document = {\"text\": content[\"raw-text\"], \"metadata\": metadata}\n",
    "    requesting.append(InsertOne(document))\n",
    "    \n",
    "    if len(requesting) >= CHUNK_SIZE:\n",
    "        collection.bulk_write(requesting)\n",
    "        requesting = []\n",
    "        \n",
    "if requesting:\n",
    "    collection.bulk_write(requesting)\n",
    "    requesting = []"
   ]
  },
  {
   "cell_type": "code",
   "execution_count": null,
   "id": "90301bea",
   "metadata": {},
   "outputs": [],
   "source": []
  }
 ],
 "metadata": {
  "kernelspec": {
   "display_name": "Python 3 (ipykernel)",
   "language": "python",
   "name": "python3"
  },
  "language_info": {
   "codemirror_mode": {
    "name": "ipython",
    "version": 3
   },
   "file_extension": ".py",
   "mimetype": "text/x-python",
   "name": "python",
   "nbconvert_exporter": "python",
   "pygments_lexer": "ipython3",
   "version": "3.10.4"
  }
 },
 "nbformat": 4,
 "nbformat_minor": 5
}
